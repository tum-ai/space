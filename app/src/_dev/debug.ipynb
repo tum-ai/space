{
 "cells": [
  {
   "cell_type": "code",
   "execution_count": 2,
   "metadata": {},
   "outputs": [],
   "source": [
    "import os\n",
    "import dotenv\n",
    "from pathlib import Path\n",
    "from auth0.authentication import GetToken, token_verifier\n",
    "from auth0.management import Auth0\n",
    "\n",
    "# import pyjwt"
   ]
  },
  {
   "cell_type": "code",
   "execution_count": 4,
   "metadata": {},
   "outputs": [],
   "source": [
    "dotenv.load_dotenv(Path(\"/Users/robinholzinger/robin/tumai/space/api/.env\"))\n",
    "domain = os.environ.get('AUTH0_ISSUER_BASE_URL')\n",
    "non_interactive_client_id = os.environ['AUTH0_CLIENT_ID']\n",
    "non_interactive_client_secret = os.environ['AUTH0_CLIENT_SECRET']"
   ]
  },
  {
   "cell_type": "code",
   "execution_count": 17,
   "metadata": {},
   "outputs": [
    {
     "data": {
      "text/plain": [
       "'CjBe1fw1MfPf6JC_rGNqzDA1dF5BfDxWRi77MqE-pOXJczs-5KTS3EE_DrGuaIaN'"
      ]
     },
     "execution_count": 17,
     "metadata": {},
     "output_type": "execute_result"
    }
   ],
   "source": [
    "non_interactive_client_secret"
   ]
  },
  {
   "cell_type": "code",
   "execution_count": 27,
   "metadata": {},
   "outputs": [],
   "source": [
    "# backend\n",
    "# AUTH0_SECRET='use [openssl rand -hex 32] to generate a 32 bytes value'\n",
    "# AUTH0_BASE_URL='http://localhost:3000'\n",
    "# AUTH0_ISSUER_BASE_URL='staging-space-tum-ai.eu.auth0.com'\n",
    "AUTH0_CLIENT_ID='hxjQE8IC0muVrZwAc1OVExncrVwK7fNS'\n",
    "AUTH0_CLIENT_SECRET='95iT5_PPl2kdGTQ8pqUmmmy9ucJfrVJR7B2MX65Mg3ZPlBW08Jd2alnlnTa3bTR6'\n",
    "# AUTH0_SCOPE='openid profile'"
   ]
  },
  {
   "cell_type": "code",
   "execution_count": 38,
   "metadata": {},
   "outputs": [],
   "source": [
    "get_token = GetToken(\"staging-space-tum-ai.eu.auth0.com\", AUTH0_CLIENT_ID, client_secret=AUTH0_CLIENT_SECRET)\n",
    "token = get_token.client_credentials(f'https://staging-space-tum-ai.eu.auth0.com/api/v2/')\n",
    "token\n",
    "\n",
    "auth0client = Auth0(\"staging-space-tum-ai.eu.auth0.com\", token['access_token'])"
   ]
  },
  {
   "cell_type": "code",
   "execution_count": 40,
   "metadata": {},
   "outputs": [
    {
     "data": {
      "text/plain": [
       "{'created_at': '2023-10-09T15:02:29.523Z',\n",
       " 'email': 'rnholzinger01@outlook.com',\n",
       " 'email_verified': False,\n",
       " 'identities': [{'connection': 'Username-Password-Authentication',\n",
       "   'provider': 'auth0',\n",
       "   'user_id': '65241605f4bea0146a1a542c',\n",
       "   'isSocial': False}],\n",
       " 'name': 'rnholzinger01@outlook.com',\n",
       " 'nickname': 'rnholzinger01',\n",
       " 'picture': 'https://s.gravatar.com/avatar/3aef56ad9331e1b8cd25f09f12ccdeeb?s=480&r=pg&d=https%3A%2F%2Fcdn.auth0.com%2Favatars%2Frn.png',\n",
       " 'updated_at': '2023-10-09T15:02:29.523Z',\n",
       " 'user_id': 'auth0|65241605f4bea0146a1a542c',\n",
       " 'last_ip': '93.193.141.2',\n",
       " 'last_login': '2023-10-09T15:02:29.520Z',\n",
       " 'logins_count': 1}"
      ]
     },
     "execution_count": 40,
     "metadata": {},
     "output_type": "execute_result"
    }
   ],
   "source": [
    "auth0client.users.get(id=\"auth0|65241605f4bea0146a1a542c\")"
   ]
  },
  {
   "cell_type": "code",
   "execution_count": 47,
   "metadata": {},
   "outputs": [
    {
     "data": {
      "text/plain": [
       "{'blocked': False,\n",
       " 'created_at': '2023-10-09T16:41:57.283Z',\n",
       " 'email': 'robin.holzingr@gmail.com',\n",
       " 'email_verified': False,\n",
       " 'family_name': 'Holzinger2',\n",
       " 'given_name': 'Robin1',\n",
       " 'identities': [{'connection': 'Username-Password-Authentication',\n",
       "   'user_id': '65242d55cc2577c9711a1058',\n",
       "   'provider': 'auth0',\n",
       "   'isSocial': False}],\n",
       " 'name': '[Robin1] [Holzinger2]',\n",
       " 'nickname': 'robinholzi',\n",
       " 'picture': 'https://s.gravatar.com/avatar/33abd1d8d18e4464fa413d144a29f599?s=480&r=pg&d=https%3A%2F%2Fcdn.auth0.com%2Favatars%2Fdefault.png',\n",
       " 'updated_at': '2023-10-09T16:41:57.283Z',\n",
       " 'user_id': 'auth0|65242d55cc2577c9711a1058'}"
      ]
     },
     "execution_count": 47,
     "metadata": {},
     "output_type": "execute_result"
    }
   ],
   "source": [
    "import secrets\n",
    "import string\n",
    "\n",
    "alphabet = string.ascii_letters + string.digits\n",
    "rand_pw = ''.join(secrets.choice(alphabet) for i in range(30))\n",
    "\n",
    "database_conn = \"Username-Password-Authentication\"\n",
    "auth0client.users.create({\n",
    "        \"email\": \"robin.holzingr@gmail.com\",\n",
    "        # \"phone_number\": \"string\",\n",
    "        # \"user_metadata\": {},\n",
    "        \"blocked\": False,\n",
    "        \"email_verified\": False,\n",
    "        # \"phone_verified\": false,\n",
    "        \"app_metadata\": {},\n",
    "        \"given_name\": \"Robin1\",\n",
    "        \"family_name\": \"Holzinger2\",\n",
    "        \"name\": \"[Robin1] [Holzinger2]\",\n",
    "        \"nickname\": \"robinholzi\",\n",
    "        # \"picture\": \"string\",\n",
    "        # \"user_id\": \"string\",\n",
    "        \"connection\": database_conn,\n",
    "        \"password\": rand_pw,\n",
    "        \"verify_email\": True,\n",
    "    })"
   ]
  },
  {
   "cell_type": "code",
   "execution_count": null,
   "metadata": {},
   "outputs": [],
   "source": []
  },
  {
   "cell_type": "code",
   "execution_count": null,
   "metadata": {},
   "outputs": [],
   "source": []
  },
  {
   "cell_type": "code",
   "execution_count": null,
   "metadata": {},
   "outputs": [],
   "source": []
  },
  {
   "cell_type": "code",
   "execution_count": null,
   "metadata": {},
   "outputs": [],
   "source": []
  },
  {
   "cell_type": "code",
   "execution_count": null,
   "metadata": {},
   "outputs": [],
   "source": []
  },
  {
   "cell_type": "code",
   "execution_count": null,
   "metadata": {},
   "outputs": [],
   "source": []
  },
  {
   "cell_type": "code",
   "execution_count": null,
   "metadata": {},
   "outputs": [],
   "source": []
  },
  {
   "cell_type": "code",
   "execution_count": null,
   "metadata": {},
   "outputs": [],
   "source": []
  },
  {
   "cell_type": "code",
   "execution_count": null,
   "metadata": {},
   "outputs": [],
   "source": []
  },
  {
   "cell_type": "code",
   "execution_count": null,
   "metadata": {},
   "outputs": [],
   "source": []
  },
  {
   "cell_type": "code",
   "execution_count": 29,
   "metadata": {},
   "outputs": [
    {
     "ename": "ConnectionError",
     "evalue": "HTTPSConnectionPool(host='https', port=443): Max retries exceeded with url: //staging-space-tum-ai.eu.auth0.com/api/v2/users?per_page=25&page=0&include_totals=true&include_fields=true (Caused by NameResolutionError(\"<urllib3.connection.HTTPSConnection object at 0x109009990>: Failed to resolve 'https' ([Errno 8] nodename nor servname provided, or not known)\"))",
     "output_type": "error",
     "traceback": [
      "\u001b[0;31m---------------------------------------------------------------------------\u001b[0m",
      "\u001b[0;31mgaierror\u001b[0m                                  Traceback (most recent call last)",
      "File \u001b[0;32m~/micromamba/envs/space/lib/python3.11/site-packages/urllib3/connection.py:203\u001b[0m, in \u001b[0;36mHTTPConnection._new_conn\u001b[0;34m(self)\u001b[0m\n\u001b[1;32m    202\u001b[0m \u001b[39mtry\u001b[39;00m:\n\u001b[0;32m--> 203\u001b[0m     sock \u001b[39m=\u001b[39m connection\u001b[39m.\u001b[39;49mcreate_connection(\n\u001b[1;32m    204\u001b[0m         (\u001b[39mself\u001b[39;49m\u001b[39m.\u001b[39;49m_dns_host, \u001b[39mself\u001b[39;49m\u001b[39m.\u001b[39;49mport),\n\u001b[1;32m    205\u001b[0m         \u001b[39mself\u001b[39;49m\u001b[39m.\u001b[39;49mtimeout,\n\u001b[1;32m    206\u001b[0m         source_address\u001b[39m=\u001b[39;49m\u001b[39mself\u001b[39;49m\u001b[39m.\u001b[39;49msource_address,\n\u001b[1;32m    207\u001b[0m         socket_options\u001b[39m=\u001b[39;49m\u001b[39mself\u001b[39;49m\u001b[39m.\u001b[39;49msocket_options,\n\u001b[1;32m    208\u001b[0m     )\n\u001b[1;32m    209\u001b[0m \u001b[39mexcept\u001b[39;00m socket\u001b[39m.\u001b[39mgaierror \u001b[39mas\u001b[39;00m e:\n",
      "File \u001b[0;32m~/micromamba/envs/space/lib/python3.11/site-packages/urllib3/util/connection.py:60\u001b[0m, in \u001b[0;36mcreate_connection\u001b[0;34m(address, timeout, source_address, socket_options)\u001b[0m\n\u001b[1;32m     58\u001b[0m     \u001b[39mraise\u001b[39;00m LocationParseError(\u001b[39mf\u001b[39m\u001b[39m\"\u001b[39m\u001b[39m'\u001b[39m\u001b[39m{\u001b[39;00mhost\u001b[39m}\u001b[39;00m\u001b[39m'\u001b[39m\u001b[39m, label empty or too long\u001b[39m\u001b[39m\"\u001b[39m) \u001b[39mfrom\u001b[39;00m \u001b[39mNone\u001b[39;00m\n\u001b[0;32m---> 60\u001b[0m \u001b[39mfor\u001b[39;00m res \u001b[39min\u001b[39;00m socket\u001b[39m.\u001b[39;49mgetaddrinfo(host, port, family, socket\u001b[39m.\u001b[39;49mSOCK_STREAM):\n\u001b[1;32m     61\u001b[0m     af, socktype, proto, canonname, sa \u001b[39m=\u001b[39m res\n",
      "File \u001b[0;32m~/micromamba/envs/space/lib/python3.11/socket.py:962\u001b[0m, in \u001b[0;36mgetaddrinfo\u001b[0;34m(host, port, family, type, proto, flags)\u001b[0m\n\u001b[1;32m    961\u001b[0m addrlist \u001b[39m=\u001b[39m []\n\u001b[0;32m--> 962\u001b[0m \u001b[39mfor\u001b[39;00m res \u001b[39min\u001b[39;00m _socket\u001b[39m.\u001b[39;49mgetaddrinfo(host, port, family, \u001b[39mtype\u001b[39;49m, proto, flags):\n\u001b[1;32m    963\u001b[0m     af, socktype, proto, canonname, sa \u001b[39m=\u001b[39m res\n",
      "\u001b[0;31mgaierror\u001b[0m: [Errno 8] nodename nor servname provided, or not known",
      "\nThe above exception was the direct cause of the following exception:\n",
      "\u001b[0;31mNameResolutionError\u001b[0m                       Traceback (most recent call last)",
      "File \u001b[0;32m~/micromamba/envs/space/lib/python3.11/site-packages/urllib3/connectionpool.py:790\u001b[0m, in \u001b[0;36mHTTPConnectionPool.urlopen\u001b[0;34m(self, method, url, body, headers, retries, redirect, assert_same_host, timeout, pool_timeout, release_conn, chunked, body_pos, preload_content, decode_content, **response_kw)\u001b[0m\n\u001b[1;32m    789\u001b[0m \u001b[39m# Make the request on the HTTPConnection object\u001b[39;00m\n\u001b[0;32m--> 790\u001b[0m response \u001b[39m=\u001b[39m \u001b[39mself\u001b[39;49m\u001b[39m.\u001b[39;49m_make_request(\n\u001b[1;32m    791\u001b[0m     conn,\n\u001b[1;32m    792\u001b[0m     method,\n\u001b[1;32m    793\u001b[0m     url,\n\u001b[1;32m    794\u001b[0m     timeout\u001b[39m=\u001b[39;49mtimeout_obj,\n\u001b[1;32m    795\u001b[0m     body\u001b[39m=\u001b[39;49mbody,\n\u001b[1;32m    796\u001b[0m     headers\u001b[39m=\u001b[39;49mheaders,\n\u001b[1;32m    797\u001b[0m     chunked\u001b[39m=\u001b[39;49mchunked,\n\u001b[1;32m    798\u001b[0m     retries\u001b[39m=\u001b[39;49mretries,\n\u001b[1;32m    799\u001b[0m     response_conn\u001b[39m=\u001b[39;49mresponse_conn,\n\u001b[1;32m    800\u001b[0m     preload_content\u001b[39m=\u001b[39;49mpreload_content,\n\u001b[1;32m    801\u001b[0m     decode_content\u001b[39m=\u001b[39;49mdecode_content,\n\u001b[1;32m    802\u001b[0m     \u001b[39m*\u001b[39;49m\u001b[39m*\u001b[39;49mresponse_kw,\n\u001b[1;32m    803\u001b[0m )\n\u001b[1;32m    805\u001b[0m \u001b[39m# Everything went great!\u001b[39;00m\n",
      "File \u001b[0;32m~/micromamba/envs/space/lib/python3.11/site-packages/urllib3/connectionpool.py:491\u001b[0m, in \u001b[0;36mHTTPConnectionPool._make_request\u001b[0;34m(self, conn, method, url, body, headers, retries, timeout, chunked, response_conn, preload_content, decode_content, enforce_content_length)\u001b[0m\n\u001b[1;32m    490\u001b[0m         new_e \u001b[39m=\u001b[39m _wrap_proxy_error(new_e, conn\u001b[39m.\u001b[39mproxy\u001b[39m.\u001b[39mscheme)\n\u001b[0;32m--> 491\u001b[0m     \u001b[39mraise\u001b[39;00m new_e\n\u001b[1;32m    493\u001b[0m \u001b[39m# conn.request() calls http.client.*.request, not the method in\u001b[39;00m\n\u001b[1;32m    494\u001b[0m \u001b[39m# urllib3.request. It also calls makefile (recv) on the socket.\u001b[39;00m\n",
      "File \u001b[0;32m~/micromamba/envs/space/lib/python3.11/site-packages/urllib3/connectionpool.py:467\u001b[0m, in \u001b[0;36mHTTPConnectionPool._make_request\u001b[0;34m(self, conn, method, url, body, headers, retries, timeout, chunked, response_conn, preload_content, decode_content, enforce_content_length)\u001b[0m\n\u001b[1;32m    466\u001b[0m \u001b[39mtry\u001b[39;00m:\n\u001b[0;32m--> 467\u001b[0m     \u001b[39mself\u001b[39;49m\u001b[39m.\u001b[39;49m_validate_conn(conn)\n\u001b[1;32m    468\u001b[0m \u001b[39mexcept\u001b[39;00m (SocketTimeout, BaseSSLError) \u001b[39mas\u001b[39;00m e:\n",
      "File \u001b[0;32m~/micromamba/envs/space/lib/python3.11/site-packages/urllib3/connectionpool.py:1092\u001b[0m, in \u001b[0;36mHTTPSConnectionPool._validate_conn\u001b[0;34m(self, conn)\u001b[0m\n\u001b[1;32m   1091\u001b[0m \u001b[39mif\u001b[39;00m conn\u001b[39m.\u001b[39mis_closed:\n\u001b[0;32m-> 1092\u001b[0m     conn\u001b[39m.\u001b[39;49mconnect()\n\u001b[1;32m   1094\u001b[0m \u001b[39mif\u001b[39;00m \u001b[39mnot\u001b[39;00m conn\u001b[39m.\u001b[39mis_verified:\n",
      "File \u001b[0;32m~/micromamba/envs/space/lib/python3.11/site-packages/urllib3/connection.py:611\u001b[0m, in \u001b[0;36mHTTPSConnection.connect\u001b[0;34m(self)\u001b[0m\n\u001b[1;32m    610\u001b[0m sock: socket\u001b[39m.\u001b[39msocket \u001b[39m|\u001b[39m ssl\u001b[39m.\u001b[39mSSLSocket\n\u001b[0;32m--> 611\u001b[0m \u001b[39mself\u001b[39m\u001b[39m.\u001b[39msock \u001b[39m=\u001b[39m sock \u001b[39m=\u001b[39m \u001b[39mself\u001b[39;49m\u001b[39m.\u001b[39;49m_new_conn()\n\u001b[1;32m    612\u001b[0m server_hostname: \u001b[39mstr\u001b[39m \u001b[39m=\u001b[39m \u001b[39mself\u001b[39m\u001b[39m.\u001b[39mhost\n",
      "File \u001b[0;32m~/micromamba/envs/space/lib/python3.11/site-packages/urllib3/connection.py:210\u001b[0m, in \u001b[0;36mHTTPConnection._new_conn\u001b[0;34m(self)\u001b[0m\n\u001b[1;32m    209\u001b[0m \u001b[39mexcept\u001b[39;00m socket\u001b[39m.\u001b[39mgaierror \u001b[39mas\u001b[39;00m e:\n\u001b[0;32m--> 210\u001b[0m     \u001b[39mraise\u001b[39;00m NameResolutionError(\u001b[39mself\u001b[39m\u001b[39m.\u001b[39mhost, \u001b[39mself\u001b[39m, e) \u001b[39mfrom\u001b[39;00m \u001b[39me\u001b[39;00m\n\u001b[1;32m    211\u001b[0m \u001b[39mexcept\u001b[39;00m SocketTimeout \u001b[39mas\u001b[39;00m e:\n",
      "\u001b[0;31mNameResolutionError\u001b[0m: <urllib3.connection.HTTPSConnection object at 0x109009990>: Failed to resolve 'https' ([Errno 8] nodename nor servname provided, or not known)",
      "\nThe above exception was the direct cause of the following exception:\n",
      "\u001b[0;31mMaxRetryError\u001b[0m                             Traceback (most recent call last)",
      "File \u001b[0;32m~/micromamba/envs/space/lib/python3.11/site-packages/requests/adapters.py:486\u001b[0m, in \u001b[0;36mHTTPAdapter.send\u001b[0;34m(self, request, stream, timeout, verify, cert, proxies)\u001b[0m\n\u001b[1;32m    485\u001b[0m \u001b[39mtry\u001b[39;00m:\n\u001b[0;32m--> 486\u001b[0m     resp \u001b[39m=\u001b[39m conn\u001b[39m.\u001b[39;49murlopen(\n\u001b[1;32m    487\u001b[0m         method\u001b[39m=\u001b[39;49mrequest\u001b[39m.\u001b[39;49mmethod,\n\u001b[1;32m    488\u001b[0m         url\u001b[39m=\u001b[39;49murl,\n\u001b[1;32m    489\u001b[0m         body\u001b[39m=\u001b[39;49mrequest\u001b[39m.\u001b[39;49mbody,\n\u001b[1;32m    490\u001b[0m         headers\u001b[39m=\u001b[39;49mrequest\u001b[39m.\u001b[39;49mheaders,\n\u001b[1;32m    491\u001b[0m         redirect\u001b[39m=\u001b[39;49m\u001b[39mFalse\u001b[39;49;00m,\n\u001b[1;32m    492\u001b[0m         assert_same_host\u001b[39m=\u001b[39;49m\u001b[39mFalse\u001b[39;49;00m,\n\u001b[1;32m    493\u001b[0m         preload_content\u001b[39m=\u001b[39;49m\u001b[39mFalse\u001b[39;49;00m,\n\u001b[1;32m    494\u001b[0m         decode_content\u001b[39m=\u001b[39;49m\u001b[39mFalse\u001b[39;49;00m,\n\u001b[1;32m    495\u001b[0m         retries\u001b[39m=\u001b[39;49m\u001b[39mself\u001b[39;49m\u001b[39m.\u001b[39;49mmax_retries,\n\u001b[1;32m    496\u001b[0m         timeout\u001b[39m=\u001b[39;49mtimeout,\n\u001b[1;32m    497\u001b[0m         chunked\u001b[39m=\u001b[39;49mchunked,\n\u001b[1;32m    498\u001b[0m     )\n\u001b[1;32m    500\u001b[0m \u001b[39mexcept\u001b[39;00m (ProtocolError, \u001b[39mOSError\u001b[39;00m) \u001b[39mas\u001b[39;00m err:\n",
      "File \u001b[0;32m~/micromamba/envs/space/lib/python3.11/site-packages/urllib3/connectionpool.py:844\u001b[0m, in \u001b[0;36mHTTPConnectionPool.urlopen\u001b[0;34m(self, method, url, body, headers, retries, redirect, assert_same_host, timeout, pool_timeout, release_conn, chunked, body_pos, preload_content, decode_content, **response_kw)\u001b[0m\n\u001b[1;32m    842\u001b[0m     new_e \u001b[39m=\u001b[39m ProtocolError(\u001b[39m\"\u001b[39m\u001b[39mConnection aborted.\u001b[39m\u001b[39m\"\u001b[39m, new_e)\n\u001b[0;32m--> 844\u001b[0m retries \u001b[39m=\u001b[39m retries\u001b[39m.\u001b[39;49mincrement(\n\u001b[1;32m    845\u001b[0m     method, url, error\u001b[39m=\u001b[39;49mnew_e, _pool\u001b[39m=\u001b[39;49m\u001b[39mself\u001b[39;49m, _stacktrace\u001b[39m=\u001b[39;49msys\u001b[39m.\u001b[39;49mexc_info()[\u001b[39m2\u001b[39;49m]\n\u001b[1;32m    846\u001b[0m )\n\u001b[1;32m    847\u001b[0m retries\u001b[39m.\u001b[39msleep()\n",
      "File \u001b[0;32m~/micromamba/envs/space/lib/python3.11/site-packages/urllib3/util/retry.py:515\u001b[0m, in \u001b[0;36mRetry.increment\u001b[0;34m(self, method, url, response, error, _pool, _stacktrace)\u001b[0m\n\u001b[1;32m    514\u001b[0m     reason \u001b[39m=\u001b[39m error \u001b[39mor\u001b[39;00m ResponseError(cause)\n\u001b[0;32m--> 515\u001b[0m     \u001b[39mraise\u001b[39;00m MaxRetryError(_pool, url, reason) \u001b[39mfrom\u001b[39;00m \u001b[39mreason\u001b[39;00m  \u001b[39m# type: ignore[arg-type]\u001b[39;00m\n\u001b[1;32m    517\u001b[0m log\u001b[39m.\u001b[39mdebug(\u001b[39m\"\u001b[39m\u001b[39mIncremented Retry for (url=\u001b[39m\u001b[39m'\u001b[39m\u001b[39m%s\u001b[39;00m\u001b[39m'\u001b[39m\u001b[39m): \u001b[39m\u001b[39m%r\u001b[39;00m\u001b[39m\"\u001b[39m, url, new_retry)\n",
      "\u001b[0;31mMaxRetryError\u001b[0m: HTTPSConnectionPool(host='https', port=443): Max retries exceeded with url: //staging-space-tum-ai.eu.auth0.com/api/v2/users?per_page=25&page=0&include_totals=true&include_fields=true (Caused by NameResolutionError(\"<urllib3.connection.HTTPSConnection object at 0x109009990>: Failed to resolve 'https' ([Errno 8] nodename nor servname provided, or not known)\"))",
      "\nDuring handling of the above exception, another exception occurred:\n",
      "\u001b[0;31mConnectionError\u001b[0m                           Traceback (most recent call last)",
      "\u001b[1;32m/Users/robinholzinger/robin/tumai/space/app/src/_dev/debug.ipynb Cell 7\u001b[0m line \u001b[0;36m1\n\u001b[0;32m----> <a href='vscode-notebook-cell:/Users/robinholzinger/robin/tumai/space/app/src/_dev/debug.ipynb#X44sZmlsZQ%3D%3D?line=0'>1</a>\u001b[0m auth0client\u001b[39m.\u001b[39;49musers\u001b[39m.\u001b[39;49mlist()\n",
      "File \u001b[0;32m~/micromamba/envs/space/lib/python3.11/site-packages/auth0/management/users.py:113\u001b[0m, in \u001b[0;36mUsers.list\u001b[0;34m(self, page, per_page, sort, connection, q, search_engine, include_totals, fields, include_fields)\u001b[0m\n\u001b[1;32m     67\u001b[0m \u001b[39m\u001b[39m\u001b[39m\"\"\"List or search users.\u001b[39;00m\n\u001b[1;32m     68\u001b[0m \n\u001b[1;32m     69\u001b[0m \u001b[39mArgs:\u001b[39;00m\n\u001b[0;32m   (...)\u001b[0m\n\u001b[1;32m    100\u001b[0m \u001b[39mSee: https://auth0.com/docs/api/management/v2#!/Users/get_users\u001b[39;00m\n\u001b[1;32m    101\u001b[0m \u001b[39m\"\"\"\u001b[39;00m\n\u001b[1;32m    102\u001b[0m params \u001b[39m=\u001b[39m {\n\u001b[1;32m    103\u001b[0m     \u001b[39m\"\u001b[39m\u001b[39mper_page\u001b[39m\u001b[39m\"\u001b[39m: per_page,\n\u001b[1;32m    104\u001b[0m     \u001b[39m\"\u001b[39m\u001b[39mpage\u001b[39m\u001b[39m\"\u001b[39m: page,\n\u001b[0;32m   (...)\u001b[0m\n\u001b[1;32m    111\u001b[0m     \u001b[39m\"\u001b[39m\u001b[39msearch_engine\u001b[39m\u001b[39m\"\u001b[39m: search_engine,\n\u001b[1;32m    112\u001b[0m }\n\u001b[0;32m--> 113\u001b[0m \u001b[39mreturn\u001b[39;00m \u001b[39mself\u001b[39;49m\u001b[39m.\u001b[39;49mclient\u001b[39m.\u001b[39;49mget(\u001b[39mself\u001b[39;49m\u001b[39m.\u001b[39;49m_url(), params\u001b[39m=\u001b[39;49mparams)\n",
      "File \u001b[0;32m~/micromamba/envs/space/lib/python3.11/site-packages/auth0/rest.py:159\u001b[0m, in \u001b[0;36mRestClient.get\u001b[0;34m(self, url, params, headers)\u001b[0m\n\u001b[1;32m    156\u001b[0m attempt \u001b[39m+\u001b[39m\u001b[39m=\u001b[39m \u001b[39m1\u001b[39m\n\u001b[1;32m    158\u001b[0m \u001b[39m# Issue the request\u001b[39;00m\n\u001b[0;32m--> 159\u001b[0m response \u001b[39m=\u001b[39m requests\u001b[39m.\u001b[39;49mget(\n\u001b[1;32m    160\u001b[0m     url,\n\u001b[1;32m    161\u001b[0m     params\u001b[39m=\u001b[39;49mparams,\n\u001b[1;32m    162\u001b[0m     headers\u001b[39m=\u001b[39;49mrequest_headers,\n\u001b[1;32m    163\u001b[0m     timeout\u001b[39m=\u001b[39;49m\u001b[39mself\u001b[39;49m\u001b[39m.\u001b[39;49moptions\u001b[39m.\u001b[39;49mtimeout,\n\u001b[1;32m    164\u001b[0m )\n\u001b[1;32m    166\u001b[0m \u001b[39m# If the response did not have a 429 header, or the attempt number is greater than the configured retries, break\u001b[39;00m\n\u001b[1;32m    167\u001b[0m \u001b[39mif\u001b[39;00m response\u001b[39m.\u001b[39mstatus_code \u001b[39m!=\u001b[39m \u001b[39m429\u001b[39m \u001b[39mor\u001b[39;00m attempt \u001b[39m>\u001b[39m \u001b[39mself\u001b[39m\u001b[39m.\u001b[39m_retries:\n",
      "File \u001b[0;32m~/micromamba/envs/space/lib/python3.11/site-packages/requests/api.py:73\u001b[0m, in \u001b[0;36mget\u001b[0;34m(url, params, **kwargs)\u001b[0m\n\u001b[1;32m     62\u001b[0m \u001b[39mdef\u001b[39;00m \u001b[39mget\u001b[39m(url, params\u001b[39m=\u001b[39m\u001b[39mNone\u001b[39;00m, \u001b[39m*\u001b[39m\u001b[39m*\u001b[39mkwargs):\n\u001b[1;32m     63\u001b[0m \u001b[39m    \u001b[39m\u001b[39mr\u001b[39m\u001b[39m\"\"\"Sends a GET request.\u001b[39;00m\n\u001b[1;32m     64\u001b[0m \n\u001b[1;32m     65\u001b[0m \u001b[39m    :param url: URL for the new :class:`Request` object.\u001b[39;00m\n\u001b[0;32m   (...)\u001b[0m\n\u001b[1;32m     70\u001b[0m \u001b[39m    :rtype: requests.Response\u001b[39;00m\n\u001b[1;32m     71\u001b[0m \u001b[39m    \"\"\"\u001b[39;00m\n\u001b[0;32m---> 73\u001b[0m     \u001b[39mreturn\u001b[39;00m request(\u001b[39m\"\u001b[39;49m\u001b[39mget\u001b[39;49m\u001b[39m\"\u001b[39;49m, url, params\u001b[39m=\u001b[39;49mparams, \u001b[39m*\u001b[39;49m\u001b[39m*\u001b[39;49mkwargs)\n",
      "File \u001b[0;32m~/micromamba/envs/space/lib/python3.11/site-packages/requests/api.py:59\u001b[0m, in \u001b[0;36mrequest\u001b[0;34m(method, url, **kwargs)\u001b[0m\n\u001b[1;32m     55\u001b[0m \u001b[39m# By using the 'with' statement we are sure the session is closed, thus we\u001b[39;00m\n\u001b[1;32m     56\u001b[0m \u001b[39m# avoid leaving sockets open which can trigger a ResourceWarning in some\u001b[39;00m\n\u001b[1;32m     57\u001b[0m \u001b[39m# cases, and look like a memory leak in others.\u001b[39;00m\n\u001b[1;32m     58\u001b[0m \u001b[39mwith\u001b[39;00m sessions\u001b[39m.\u001b[39mSession() \u001b[39mas\u001b[39;00m session:\n\u001b[0;32m---> 59\u001b[0m     \u001b[39mreturn\u001b[39;00m session\u001b[39m.\u001b[39;49mrequest(method\u001b[39m=\u001b[39;49mmethod, url\u001b[39m=\u001b[39;49murl, \u001b[39m*\u001b[39;49m\u001b[39m*\u001b[39;49mkwargs)\n",
      "File \u001b[0;32m~/micromamba/envs/space/lib/python3.11/site-packages/requests/sessions.py:589\u001b[0m, in \u001b[0;36mSession.request\u001b[0;34m(self, method, url, params, data, headers, cookies, files, auth, timeout, allow_redirects, proxies, hooks, stream, verify, cert, json)\u001b[0m\n\u001b[1;32m    584\u001b[0m send_kwargs \u001b[39m=\u001b[39m {\n\u001b[1;32m    585\u001b[0m     \u001b[39m\"\u001b[39m\u001b[39mtimeout\u001b[39m\u001b[39m\"\u001b[39m: timeout,\n\u001b[1;32m    586\u001b[0m     \u001b[39m\"\u001b[39m\u001b[39mallow_redirects\u001b[39m\u001b[39m\"\u001b[39m: allow_redirects,\n\u001b[1;32m    587\u001b[0m }\n\u001b[1;32m    588\u001b[0m send_kwargs\u001b[39m.\u001b[39mupdate(settings)\n\u001b[0;32m--> 589\u001b[0m resp \u001b[39m=\u001b[39m \u001b[39mself\u001b[39;49m\u001b[39m.\u001b[39;49msend(prep, \u001b[39m*\u001b[39;49m\u001b[39m*\u001b[39;49msend_kwargs)\n\u001b[1;32m    591\u001b[0m \u001b[39mreturn\u001b[39;00m resp\n",
      "File \u001b[0;32m~/micromamba/envs/space/lib/python3.11/site-packages/requests/sessions.py:703\u001b[0m, in \u001b[0;36mSession.send\u001b[0;34m(self, request, **kwargs)\u001b[0m\n\u001b[1;32m    700\u001b[0m start \u001b[39m=\u001b[39m preferred_clock()\n\u001b[1;32m    702\u001b[0m \u001b[39m# Send the request\u001b[39;00m\n\u001b[0;32m--> 703\u001b[0m r \u001b[39m=\u001b[39m adapter\u001b[39m.\u001b[39;49msend(request, \u001b[39m*\u001b[39;49m\u001b[39m*\u001b[39;49mkwargs)\n\u001b[1;32m    705\u001b[0m \u001b[39m# Total elapsed time of the request (approximately)\u001b[39;00m\n\u001b[1;32m    706\u001b[0m elapsed \u001b[39m=\u001b[39m preferred_clock() \u001b[39m-\u001b[39m start\n",
      "File \u001b[0;32m~/micromamba/envs/space/lib/python3.11/site-packages/requests/adapters.py:519\u001b[0m, in \u001b[0;36mHTTPAdapter.send\u001b[0;34m(self, request, stream, timeout, verify, cert, proxies)\u001b[0m\n\u001b[1;32m    515\u001b[0m     \u001b[39mif\u001b[39;00m \u001b[39misinstance\u001b[39m(e\u001b[39m.\u001b[39mreason, _SSLError):\n\u001b[1;32m    516\u001b[0m         \u001b[39m# This branch is for urllib3 v1.22 and later.\u001b[39;00m\n\u001b[1;32m    517\u001b[0m         \u001b[39mraise\u001b[39;00m SSLError(e, request\u001b[39m=\u001b[39mrequest)\n\u001b[0;32m--> 519\u001b[0m     \u001b[39mraise\u001b[39;00m \u001b[39mConnectionError\u001b[39;00m(e, request\u001b[39m=\u001b[39mrequest)\n\u001b[1;32m    521\u001b[0m \u001b[39mexcept\u001b[39;00m ClosedPoolError \u001b[39mas\u001b[39;00m e:\n\u001b[1;32m    522\u001b[0m     \u001b[39mraise\u001b[39;00m \u001b[39mConnectionError\u001b[39;00m(e, request\u001b[39m=\u001b[39mrequest)\n",
      "\u001b[0;31mConnectionError\u001b[0m: HTTPSConnectionPool(host='https', port=443): Max retries exceeded with url: //staging-space-tum-ai.eu.auth0.com/api/v2/users?per_page=25&page=0&include_totals=true&include_fields=true (Caused by NameResolutionError(\"<urllib3.connection.HTTPSConnection object at 0x109009990>: Failed to resolve 'https' ([Errno 8] nodename nor servname provided, or not known)\"))"
     ]
    }
   ],
   "source": []
  },
  {
   "cell_type": "code",
   "execution_count": 25,
   "metadata": {},
   "outputs": [
    {
     "ename": "ConnectionError",
     "evalue": "HTTPSConnectionPool(host='https', port=443): Max retries exceeded with url: //staging-space-tum-ai.eu.auth0.com/api/v2/users/65241605f4bea0146a1a542c?fields=user_id%2Cemail%2Cname%2Cpicture%2Cidentities&include_fields=true (Caused by NameResolutionError(\"<urllib3.connection.HTTPSConnection object at 0x10a297a10>: Failed to resolve 'https' ([Errno 8] nodename nor servname provided, or not known)\"))",
     "output_type": "error",
     "traceback": [
      "\u001b[0;31m---------------------------------------------------------------------------\u001b[0m",
      "\u001b[0;31mgaierror\u001b[0m                                  Traceback (most recent call last)",
      "File \u001b[0;32m~/micromamba/envs/space/lib/python3.11/site-packages/urllib3/connection.py:203\u001b[0m, in \u001b[0;36mHTTPConnection._new_conn\u001b[0;34m(self)\u001b[0m\n\u001b[1;32m    202\u001b[0m \u001b[39mtry\u001b[39;00m:\n\u001b[0;32m--> 203\u001b[0m     sock \u001b[39m=\u001b[39m connection\u001b[39m.\u001b[39;49mcreate_connection(\n\u001b[1;32m    204\u001b[0m         (\u001b[39mself\u001b[39;49m\u001b[39m.\u001b[39;49m_dns_host, \u001b[39mself\u001b[39;49m\u001b[39m.\u001b[39;49mport),\n\u001b[1;32m    205\u001b[0m         \u001b[39mself\u001b[39;49m\u001b[39m.\u001b[39;49mtimeout,\n\u001b[1;32m    206\u001b[0m         source_address\u001b[39m=\u001b[39;49m\u001b[39mself\u001b[39;49m\u001b[39m.\u001b[39;49msource_address,\n\u001b[1;32m    207\u001b[0m         socket_options\u001b[39m=\u001b[39;49m\u001b[39mself\u001b[39;49m\u001b[39m.\u001b[39;49msocket_options,\n\u001b[1;32m    208\u001b[0m     )\n\u001b[1;32m    209\u001b[0m \u001b[39mexcept\u001b[39;00m socket\u001b[39m.\u001b[39mgaierror \u001b[39mas\u001b[39;00m e:\n",
      "File \u001b[0;32m~/micromamba/envs/space/lib/python3.11/site-packages/urllib3/util/connection.py:60\u001b[0m, in \u001b[0;36mcreate_connection\u001b[0;34m(address, timeout, source_address, socket_options)\u001b[0m\n\u001b[1;32m     58\u001b[0m     \u001b[39mraise\u001b[39;00m LocationParseError(\u001b[39mf\u001b[39m\u001b[39m\"\u001b[39m\u001b[39m'\u001b[39m\u001b[39m{\u001b[39;00mhost\u001b[39m}\u001b[39;00m\u001b[39m'\u001b[39m\u001b[39m, label empty or too long\u001b[39m\u001b[39m\"\u001b[39m) \u001b[39mfrom\u001b[39;00m \u001b[39mNone\u001b[39;00m\n\u001b[0;32m---> 60\u001b[0m \u001b[39mfor\u001b[39;00m res \u001b[39min\u001b[39;00m socket\u001b[39m.\u001b[39;49mgetaddrinfo(host, port, family, socket\u001b[39m.\u001b[39;49mSOCK_STREAM):\n\u001b[1;32m     61\u001b[0m     af, socktype, proto, canonname, sa \u001b[39m=\u001b[39m res\n",
      "File \u001b[0;32m~/micromamba/envs/space/lib/python3.11/socket.py:962\u001b[0m, in \u001b[0;36mgetaddrinfo\u001b[0;34m(host, port, family, type, proto, flags)\u001b[0m\n\u001b[1;32m    961\u001b[0m addrlist \u001b[39m=\u001b[39m []\n\u001b[0;32m--> 962\u001b[0m \u001b[39mfor\u001b[39;00m res \u001b[39min\u001b[39;00m _socket\u001b[39m.\u001b[39;49mgetaddrinfo(host, port, family, \u001b[39mtype\u001b[39;49m, proto, flags):\n\u001b[1;32m    963\u001b[0m     af, socktype, proto, canonname, sa \u001b[39m=\u001b[39m res\n",
      "\u001b[0;31mgaierror\u001b[0m: [Errno 8] nodename nor servname provided, or not known",
      "\nThe above exception was the direct cause of the following exception:\n",
      "\u001b[0;31mNameResolutionError\u001b[0m                       Traceback (most recent call last)",
      "File \u001b[0;32m~/micromamba/envs/space/lib/python3.11/site-packages/urllib3/connectionpool.py:790\u001b[0m, in \u001b[0;36mHTTPConnectionPool.urlopen\u001b[0;34m(self, method, url, body, headers, retries, redirect, assert_same_host, timeout, pool_timeout, release_conn, chunked, body_pos, preload_content, decode_content, **response_kw)\u001b[0m\n\u001b[1;32m    789\u001b[0m \u001b[39m# Make the request on the HTTPConnection object\u001b[39;00m\n\u001b[0;32m--> 790\u001b[0m response \u001b[39m=\u001b[39m \u001b[39mself\u001b[39;49m\u001b[39m.\u001b[39;49m_make_request(\n\u001b[1;32m    791\u001b[0m     conn,\n\u001b[1;32m    792\u001b[0m     method,\n\u001b[1;32m    793\u001b[0m     url,\n\u001b[1;32m    794\u001b[0m     timeout\u001b[39m=\u001b[39;49mtimeout_obj,\n\u001b[1;32m    795\u001b[0m     body\u001b[39m=\u001b[39;49mbody,\n\u001b[1;32m    796\u001b[0m     headers\u001b[39m=\u001b[39;49mheaders,\n\u001b[1;32m    797\u001b[0m     chunked\u001b[39m=\u001b[39;49mchunked,\n\u001b[1;32m    798\u001b[0m     retries\u001b[39m=\u001b[39;49mretries,\n\u001b[1;32m    799\u001b[0m     response_conn\u001b[39m=\u001b[39;49mresponse_conn,\n\u001b[1;32m    800\u001b[0m     preload_content\u001b[39m=\u001b[39;49mpreload_content,\n\u001b[1;32m    801\u001b[0m     decode_content\u001b[39m=\u001b[39;49mdecode_content,\n\u001b[1;32m    802\u001b[0m     \u001b[39m*\u001b[39;49m\u001b[39m*\u001b[39;49mresponse_kw,\n\u001b[1;32m    803\u001b[0m )\n\u001b[1;32m    805\u001b[0m \u001b[39m# Everything went great!\u001b[39;00m\n",
      "File \u001b[0;32m~/micromamba/envs/space/lib/python3.11/site-packages/urllib3/connectionpool.py:491\u001b[0m, in \u001b[0;36mHTTPConnectionPool._make_request\u001b[0;34m(self, conn, method, url, body, headers, retries, timeout, chunked, response_conn, preload_content, decode_content, enforce_content_length)\u001b[0m\n\u001b[1;32m    490\u001b[0m         new_e \u001b[39m=\u001b[39m _wrap_proxy_error(new_e, conn\u001b[39m.\u001b[39mproxy\u001b[39m.\u001b[39mscheme)\n\u001b[0;32m--> 491\u001b[0m     \u001b[39mraise\u001b[39;00m new_e\n\u001b[1;32m    493\u001b[0m \u001b[39m# conn.request() calls http.client.*.request, not the method in\u001b[39;00m\n\u001b[1;32m    494\u001b[0m \u001b[39m# urllib3.request. It also calls makefile (recv) on the socket.\u001b[39;00m\n",
      "File \u001b[0;32m~/micromamba/envs/space/lib/python3.11/site-packages/urllib3/connectionpool.py:467\u001b[0m, in \u001b[0;36mHTTPConnectionPool._make_request\u001b[0;34m(self, conn, method, url, body, headers, retries, timeout, chunked, response_conn, preload_content, decode_content, enforce_content_length)\u001b[0m\n\u001b[1;32m    466\u001b[0m \u001b[39mtry\u001b[39;00m:\n\u001b[0;32m--> 467\u001b[0m     \u001b[39mself\u001b[39;49m\u001b[39m.\u001b[39;49m_validate_conn(conn)\n\u001b[1;32m    468\u001b[0m \u001b[39mexcept\u001b[39;00m (SocketTimeout, BaseSSLError) \u001b[39mas\u001b[39;00m e:\n",
      "File \u001b[0;32m~/micromamba/envs/space/lib/python3.11/site-packages/urllib3/connectionpool.py:1092\u001b[0m, in \u001b[0;36mHTTPSConnectionPool._validate_conn\u001b[0;34m(self, conn)\u001b[0m\n\u001b[1;32m   1091\u001b[0m \u001b[39mif\u001b[39;00m conn\u001b[39m.\u001b[39mis_closed:\n\u001b[0;32m-> 1092\u001b[0m     conn\u001b[39m.\u001b[39;49mconnect()\n\u001b[1;32m   1094\u001b[0m \u001b[39mif\u001b[39;00m \u001b[39mnot\u001b[39;00m conn\u001b[39m.\u001b[39mis_verified:\n",
      "File \u001b[0;32m~/micromamba/envs/space/lib/python3.11/site-packages/urllib3/connection.py:611\u001b[0m, in \u001b[0;36mHTTPSConnection.connect\u001b[0;34m(self)\u001b[0m\n\u001b[1;32m    610\u001b[0m sock: socket\u001b[39m.\u001b[39msocket \u001b[39m|\u001b[39m ssl\u001b[39m.\u001b[39mSSLSocket\n\u001b[0;32m--> 611\u001b[0m \u001b[39mself\u001b[39m\u001b[39m.\u001b[39msock \u001b[39m=\u001b[39m sock \u001b[39m=\u001b[39m \u001b[39mself\u001b[39;49m\u001b[39m.\u001b[39;49m_new_conn()\n\u001b[1;32m    612\u001b[0m server_hostname: \u001b[39mstr\u001b[39m \u001b[39m=\u001b[39m \u001b[39mself\u001b[39m\u001b[39m.\u001b[39mhost\n",
      "File \u001b[0;32m~/micromamba/envs/space/lib/python3.11/site-packages/urllib3/connection.py:210\u001b[0m, in \u001b[0;36mHTTPConnection._new_conn\u001b[0;34m(self)\u001b[0m\n\u001b[1;32m    209\u001b[0m \u001b[39mexcept\u001b[39;00m socket\u001b[39m.\u001b[39mgaierror \u001b[39mas\u001b[39;00m e:\n\u001b[0;32m--> 210\u001b[0m     \u001b[39mraise\u001b[39;00m NameResolutionError(\u001b[39mself\u001b[39m\u001b[39m.\u001b[39mhost, \u001b[39mself\u001b[39m, e) \u001b[39mfrom\u001b[39;00m \u001b[39me\u001b[39;00m\n\u001b[1;32m    211\u001b[0m \u001b[39mexcept\u001b[39;00m SocketTimeout \u001b[39mas\u001b[39;00m e:\n",
      "\u001b[0;31mNameResolutionError\u001b[0m: <urllib3.connection.HTTPSConnection object at 0x10a297a10>: Failed to resolve 'https' ([Errno 8] nodename nor servname provided, or not known)",
      "\nThe above exception was the direct cause of the following exception:\n",
      "\u001b[0;31mMaxRetryError\u001b[0m                             Traceback (most recent call last)",
      "File \u001b[0;32m~/micromamba/envs/space/lib/python3.11/site-packages/requests/adapters.py:486\u001b[0m, in \u001b[0;36mHTTPAdapter.send\u001b[0;34m(self, request, stream, timeout, verify, cert, proxies)\u001b[0m\n\u001b[1;32m    485\u001b[0m \u001b[39mtry\u001b[39;00m:\n\u001b[0;32m--> 486\u001b[0m     resp \u001b[39m=\u001b[39m conn\u001b[39m.\u001b[39;49murlopen(\n\u001b[1;32m    487\u001b[0m         method\u001b[39m=\u001b[39;49mrequest\u001b[39m.\u001b[39;49mmethod,\n\u001b[1;32m    488\u001b[0m         url\u001b[39m=\u001b[39;49murl,\n\u001b[1;32m    489\u001b[0m         body\u001b[39m=\u001b[39;49mrequest\u001b[39m.\u001b[39;49mbody,\n\u001b[1;32m    490\u001b[0m         headers\u001b[39m=\u001b[39;49mrequest\u001b[39m.\u001b[39;49mheaders,\n\u001b[1;32m    491\u001b[0m         redirect\u001b[39m=\u001b[39;49m\u001b[39mFalse\u001b[39;49;00m,\n\u001b[1;32m    492\u001b[0m         assert_same_host\u001b[39m=\u001b[39;49m\u001b[39mFalse\u001b[39;49;00m,\n\u001b[1;32m    493\u001b[0m         preload_content\u001b[39m=\u001b[39;49m\u001b[39mFalse\u001b[39;49;00m,\n\u001b[1;32m    494\u001b[0m         decode_content\u001b[39m=\u001b[39;49m\u001b[39mFalse\u001b[39;49;00m,\n\u001b[1;32m    495\u001b[0m         retries\u001b[39m=\u001b[39;49m\u001b[39mself\u001b[39;49m\u001b[39m.\u001b[39;49mmax_retries,\n\u001b[1;32m    496\u001b[0m         timeout\u001b[39m=\u001b[39;49mtimeout,\n\u001b[1;32m    497\u001b[0m         chunked\u001b[39m=\u001b[39;49mchunked,\n\u001b[1;32m    498\u001b[0m     )\n\u001b[1;32m    500\u001b[0m \u001b[39mexcept\u001b[39;00m (ProtocolError, \u001b[39mOSError\u001b[39;00m) \u001b[39mas\u001b[39;00m err:\n",
      "File \u001b[0;32m~/micromamba/envs/space/lib/python3.11/site-packages/urllib3/connectionpool.py:844\u001b[0m, in \u001b[0;36mHTTPConnectionPool.urlopen\u001b[0;34m(self, method, url, body, headers, retries, redirect, assert_same_host, timeout, pool_timeout, release_conn, chunked, body_pos, preload_content, decode_content, **response_kw)\u001b[0m\n\u001b[1;32m    842\u001b[0m     new_e \u001b[39m=\u001b[39m ProtocolError(\u001b[39m\"\u001b[39m\u001b[39mConnection aborted.\u001b[39m\u001b[39m\"\u001b[39m, new_e)\n\u001b[0;32m--> 844\u001b[0m retries \u001b[39m=\u001b[39m retries\u001b[39m.\u001b[39;49mincrement(\n\u001b[1;32m    845\u001b[0m     method, url, error\u001b[39m=\u001b[39;49mnew_e, _pool\u001b[39m=\u001b[39;49m\u001b[39mself\u001b[39;49m, _stacktrace\u001b[39m=\u001b[39;49msys\u001b[39m.\u001b[39;49mexc_info()[\u001b[39m2\u001b[39;49m]\n\u001b[1;32m    846\u001b[0m )\n\u001b[1;32m    847\u001b[0m retries\u001b[39m.\u001b[39msleep()\n",
      "File \u001b[0;32m~/micromamba/envs/space/lib/python3.11/site-packages/urllib3/util/retry.py:515\u001b[0m, in \u001b[0;36mRetry.increment\u001b[0;34m(self, method, url, response, error, _pool, _stacktrace)\u001b[0m\n\u001b[1;32m    514\u001b[0m     reason \u001b[39m=\u001b[39m error \u001b[39mor\u001b[39;00m ResponseError(cause)\n\u001b[0;32m--> 515\u001b[0m     \u001b[39mraise\u001b[39;00m MaxRetryError(_pool, url, reason) \u001b[39mfrom\u001b[39;00m \u001b[39mreason\u001b[39;00m  \u001b[39m# type: ignore[arg-type]\u001b[39;00m\n\u001b[1;32m    517\u001b[0m log\u001b[39m.\u001b[39mdebug(\u001b[39m\"\u001b[39m\u001b[39mIncremented Retry for (url=\u001b[39m\u001b[39m'\u001b[39m\u001b[39m%s\u001b[39;00m\u001b[39m'\u001b[39m\u001b[39m): \u001b[39m\u001b[39m%r\u001b[39;00m\u001b[39m\"\u001b[39m, url, new_retry)\n",
      "\u001b[0;31mMaxRetryError\u001b[0m: HTTPSConnectionPool(host='https', port=443): Max retries exceeded with url: //staging-space-tum-ai.eu.auth0.com/api/v2/users/65241605f4bea0146a1a542c?fields=user_id%2Cemail%2Cname%2Cpicture%2Cidentities&include_fields=true (Caused by NameResolutionError(\"<urllib3.connection.HTTPSConnection object at 0x10a297a10>: Failed to resolve 'https' ([Errno 8] nodename nor servname provided, or not known)\"))",
      "\nDuring handling of the above exception, another exception occurred:\n",
      "\u001b[0;31mConnectionError\u001b[0m                           Traceback (most recent call last)",
      "\u001b[1;32m/Users/robinholzinger/robin/tumai/space/app/src/_dev/debug.ipynb Cell 6\u001b[0m line \u001b[0;36m1\n\u001b[0;32m----> <a href='vscode-notebook-cell:/Users/robinholzinger/robin/tumai/space/app/src/_dev/debug.ipynb#X43sZmlsZQ%3D%3D?line=0'>1</a>\u001b[0m auth0client\u001b[39m.\u001b[39;49musers\u001b[39m.\u001b[39;49mget(\u001b[39mid\u001b[39;49m\u001b[39m=\u001b[39;49m\u001b[39m\"\u001b[39;49m\u001b[39m65241605f4bea0146a1a542c\u001b[39;49m\u001b[39m\"\u001b[39;49m, fields\u001b[39m=\u001b[39;49m[\u001b[39m'\u001b[39;49m\u001b[39muser_id\u001b[39;49m\u001b[39m'\u001b[39;49m, \u001b[39m'\u001b[39;49m\u001b[39memail\u001b[39;49m\u001b[39m'\u001b[39;49m, \u001b[39m'\u001b[39;49m\u001b[39mname\u001b[39;49m\u001b[39m'\u001b[39;49m, \u001b[39m'\u001b[39;49m\u001b[39mpicture\u001b[39;49m\u001b[39m'\u001b[39;49m, \u001b[39m'\u001b[39;49m\u001b[39midentities\u001b[39;49m\u001b[39m'\u001b[39;49m])\n",
      "File \u001b[0;32m~/micromamba/envs/space/lib/python3.11/site-packages/auth0/management/users.py:147\u001b[0m, in \u001b[0;36mUsers.get\u001b[0;34m(self, id, fields, include_fields)\u001b[0m\n\u001b[1;32m    128\u001b[0m \u001b[39m\u001b[39m\u001b[39m\"\"\"Get a user.\u001b[39;00m\n\u001b[1;32m    129\u001b[0m \n\u001b[1;32m    130\u001b[0m \u001b[39mArgs:\u001b[39;00m\n\u001b[0;32m   (...)\u001b[0m\n\u001b[1;32m    140\u001b[0m \u001b[39mSee: https://auth0.com/docs/api/management/v2#!/Users/get_users_by_id\u001b[39;00m\n\u001b[1;32m    141\u001b[0m \u001b[39m\"\"\"\u001b[39;00m\n\u001b[1;32m    142\u001b[0m params \u001b[39m=\u001b[39m {\n\u001b[1;32m    143\u001b[0m     \u001b[39m\"\u001b[39m\u001b[39mfields\u001b[39m\u001b[39m\"\u001b[39m: fields \u001b[39mand\u001b[39;00m \u001b[39m\"\u001b[39m\u001b[39m,\u001b[39m\u001b[39m\"\u001b[39m\u001b[39m.\u001b[39mjoin(fields) \u001b[39mor\u001b[39;00m \u001b[39mNone\u001b[39;00m,\n\u001b[1;32m    144\u001b[0m     \u001b[39m\"\u001b[39m\u001b[39minclude_fields\u001b[39m\u001b[39m\"\u001b[39m: \u001b[39mstr\u001b[39m(include_fields)\u001b[39m.\u001b[39mlower(),\n\u001b[1;32m    145\u001b[0m }\n\u001b[0;32m--> 147\u001b[0m \u001b[39mreturn\u001b[39;00m \u001b[39mself\u001b[39;49m\u001b[39m.\u001b[39;49mclient\u001b[39m.\u001b[39;49mget(\u001b[39mself\u001b[39;49m\u001b[39m.\u001b[39;49m_url(\u001b[39mid\u001b[39;49m), params\u001b[39m=\u001b[39;49mparams)\n",
      "File \u001b[0;32m~/micromamba/envs/space/lib/python3.11/site-packages/auth0/rest.py:159\u001b[0m, in \u001b[0;36mRestClient.get\u001b[0;34m(self, url, params, headers)\u001b[0m\n\u001b[1;32m    156\u001b[0m attempt \u001b[39m+\u001b[39m\u001b[39m=\u001b[39m \u001b[39m1\u001b[39m\n\u001b[1;32m    158\u001b[0m \u001b[39m# Issue the request\u001b[39;00m\n\u001b[0;32m--> 159\u001b[0m response \u001b[39m=\u001b[39m requests\u001b[39m.\u001b[39;49mget(\n\u001b[1;32m    160\u001b[0m     url,\n\u001b[1;32m    161\u001b[0m     params\u001b[39m=\u001b[39;49mparams,\n\u001b[1;32m    162\u001b[0m     headers\u001b[39m=\u001b[39;49mrequest_headers,\n\u001b[1;32m    163\u001b[0m     timeout\u001b[39m=\u001b[39;49m\u001b[39mself\u001b[39;49m\u001b[39m.\u001b[39;49moptions\u001b[39m.\u001b[39;49mtimeout,\n\u001b[1;32m    164\u001b[0m )\n\u001b[1;32m    166\u001b[0m \u001b[39m# If the response did not have a 429 header, or the attempt number is greater than the configured retries, break\u001b[39;00m\n\u001b[1;32m    167\u001b[0m \u001b[39mif\u001b[39;00m response\u001b[39m.\u001b[39mstatus_code \u001b[39m!=\u001b[39m \u001b[39m429\u001b[39m \u001b[39mor\u001b[39;00m attempt \u001b[39m>\u001b[39m \u001b[39mself\u001b[39m\u001b[39m.\u001b[39m_retries:\n",
      "File \u001b[0;32m~/micromamba/envs/space/lib/python3.11/site-packages/requests/api.py:73\u001b[0m, in \u001b[0;36mget\u001b[0;34m(url, params, **kwargs)\u001b[0m\n\u001b[1;32m     62\u001b[0m \u001b[39mdef\u001b[39;00m \u001b[39mget\u001b[39m(url, params\u001b[39m=\u001b[39m\u001b[39mNone\u001b[39;00m, \u001b[39m*\u001b[39m\u001b[39m*\u001b[39mkwargs):\n\u001b[1;32m     63\u001b[0m \u001b[39m    \u001b[39m\u001b[39mr\u001b[39m\u001b[39m\"\"\"Sends a GET request.\u001b[39;00m\n\u001b[1;32m     64\u001b[0m \n\u001b[1;32m     65\u001b[0m \u001b[39m    :param url: URL for the new :class:`Request` object.\u001b[39;00m\n\u001b[0;32m   (...)\u001b[0m\n\u001b[1;32m     70\u001b[0m \u001b[39m    :rtype: requests.Response\u001b[39;00m\n\u001b[1;32m     71\u001b[0m \u001b[39m    \"\"\"\u001b[39;00m\n\u001b[0;32m---> 73\u001b[0m     \u001b[39mreturn\u001b[39;00m request(\u001b[39m\"\u001b[39;49m\u001b[39mget\u001b[39;49m\u001b[39m\"\u001b[39;49m, url, params\u001b[39m=\u001b[39;49mparams, \u001b[39m*\u001b[39;49m\u001b[39m*\u001b[39;49mkwargs)\n",
      "File \u001b[0;32m~/micromamba/envs/space/lib/python3.11/site-packages/requests/api.py:59\u001b[0m, in \u001b[0;36mrequest\u001b[0;34m(method, url, **kwargs)\u001b[0m\n\u001b[1;32m     55\u001b[0m \u001b[39m# By using the 'with' statement we are sure the session is closed, thus we\u001b[39;00m\n\u001b[1;32m     56\u001b[0m \u001b[39m# avoid leaving sockets open which can trigger a ResourceWarning in some\u001b[39;00m\n\u001b[1;32m     57\u001b[0m \u001b[39m# cases, and look like a memory leak in others.\u001b[39;00m\n\u001b[1;32m     58\u001b[0m \u001b[39mwith\u001b[39;00m sessions\u001b[39m.\u001b[39mSession() \u001b[39mas\u001b[39;00m session:\n\u001b[0;32m---> 59\u001b[0m     \u001b[39mreturn\u001b[39;00m session\u001b[39m.\u001b[39;49mrequest(method\u001b[39m=\u001b[39;49mmethod, url\u001b[39m=\u001b[39;49murl, \u001b[39m*\u001b[39;49m\u001b[39m*\u001b[39;49mkwargs)\n",
      "File \u001b[0;32m~/micromamba/envs/space/lib/python3.11/site-packages/requests/sessions.py:589\u001b[0m, in \u001b[0;36mSession.request\u001b[0;34m(self, method, url, params, data, headers, cookies, files, auth, timeout, allow_redirects, proxies, hooks, stream, verify, cert, json)\u001b[0m\n\u001b[1;32m    584\u001b[0m send_kwargs \u001b[39m=\u001b[39m {\n\u001b[1;32m    585\u001b[0m     \u001b[39m\"\u001b[39m\u001b[39mtimeout\u001b[39m\u001b[39m\"\u001b[39m: timeout,\n\u001b[1;32m    586\u001b[0m     \u001b[39m\"\u001b[39m\u001b[39mallow_redirects\u001b[39m\u001b[39m\"\u001b[39m: allow_redirects,\n\u001b[1;32m    587\u001b[0m }\n\u001b[1;32m    588\u001b[0m send_kwargs\u001b[39m.\u001b[39mupdate(settings)\n\u001b[0;32m--> 589\u001b[0m resp \u001b[39m=\u001b[39m \u001b[39mself\u001b[39;49m\u001b[39m.\u001b[39;49msend(prep, \u001b[39m*\u001b[39;49m\u001b[39m*\u001b[39;49msend_kwargs)\n\u001b[1;32m    591\u001b[0m \u001b[39mreturn\u001b[39;00m resp\n",
      "File \u001b[0;32m~/micromamba/envs/space/lib/python3.11/site-packages/requests/sessions.py:703\u001b[0m, in \u001b[0;36mSession.send\u001b[0;34m(self, request, **kwargs)\u001b[0m\n\u001b[1;32m    700\u001b[0m start \u001b[39m=\u001b[39m preferred_clock()\n\u001b[1;32m    702\u001b[0m \u001b[39m# Send the request\u001b[39;00m\n\u001b[0;32m--> 703\u001b[0m r \u001b[39m=\u001b[39m adapter\u001b[39m.\u001b[39;49msend(request, \u001b[39m*\u001b[39;49m\u001b[39m*\u001b[39;49mkwargs)\n\u001b[1;32m    705\u001b[0m \u001b[39m# Total elapsed time of the request (approximately)\u001b[39;00m\n\u001b[1;32m    706\u001b[0m elapsed \u001b[39m=\u001b[39m preferred_clock() \u001b[39m-\u001b[39m start\n",
      "File \u001b[0;32m~/micromamba/envs/space/lib/python3.11/site-packages/requests/adapters.py:519\u001b[0m, in \u001b[0;36mHTTPAdapter.send\u001b[0;34m(self, request, stream, timeout, verify, cert, proxies)\u001b[0m\n\u001b[1;32m    515\u001b[0m     \u001b[39mif\u001b[39;00m \u001b[39misinstance\u001b[39m(e\u001b[39m.\u001b[39mreason, _SSLError):\n\u001b[1;32m    516\u001b[0m         \u001b[39m# This branch is for urllib3 v1.22 and later.\u001b[39;00m\n\u001b[1;32m    517\u001b[0m         \u001b[39mraise\u001b[39;00m SSLError(e, request\u001b[39m=\u001b[39mrequest)\n\u001b[0;32m--> 519\u001b[0m     \u001b[39mraise\u001b[39;00m \u001b[39mConnectionError\u001b[39;00m(e, request\u001b[39m=\u001b[39mrequest)\n\u001b[1;32m    521\u001b[0m \u001b[39mexcept\u001b[39;00m ClosedPoolError \u001b[39mas\u001b[39;00m e:\n\u001b[1;32m    522\u001b[0m     \u001b[39mraise\u001b[39;00m \u001b[39mConnectionError\u001b[39;00m(e, request\u001b[39m=\u001b[39mrequest)\n",
      "\u001b[0;31mConnectionError\u001b[0m: HTTPSConnectionPool(host='https', port=443): Max retries exceeded with url: //staging-space-tum-ai.eu.auth0.com/api/v2/users/65241605f4bea0146a1a542c?fields=user_id%2Cemail%2Cname%2Cpicture%2Cidentities&include_fields=true (Caused by NameResolutionError(\"<urllib3.connection.HTTPSConnection object at 0x10a297a10>: Failed to resolve 'https' ([Errno 8] nodename nor servname provided, or not known)\"))"
     ]
    }
   ],
   "source": [
    "auth0client.users.get(id=\"65241605f4bea0146a1a542c\", fields=['user_id', 'email', 'name', 'picture', 'identities'])"
   ]
  },
  {
   "cell_type": "code",
   "execution_count": null,
   "metadata": {},
   "outputs": [],
   "source": []
  },
  {
   "cell_type": "code",
   "execution_count": null,
   "metadata": {},
   "outputs": [],
   "source": []
  },
  {
   "cell_type": "code",
   "execution_count": null,
   "metadata": {},
   "outputs": [],
   "source": []
  },
  {
   "cell_type": "code",
   "execution_count": 12,
   "metadata": {},
   "outputs": [
    {
     "ename": "ConnectionError",
     "evalue": "HTTPSConnectionPool(host='https', port=443): Max retries exceeded with url: //staging-space-tum-ai.eu.auth0.com/oauth/token (Caused by NameResolutionError(\"<urllib3.connection.HTTPSConnection object at 0x10a0f8690>: Failed to resolve 'https' ([Errno 8] nodename nor servname provided, or not known)\"))",
     "output_type": "error",
     "traceback": [
      "\u001b[0;31m---------------------------------------------------------------------------\u001b[0m",
      "\u001b[0;31mgaierror\u001b[0m                                  Traceback (most recent call last)",
      "File \u001b[0;32m~/micromamba/envs/space/lib/python3.11/site-packages/urllib3/connection.py:203\u001b[0m, in \u001b[0;36mHTTPConnection._new_conn\u001b[0;34m(self)\u001b[0m\n\u001b[1;32m    202\u001b[0m \u001b[39mtry\u001b[39;00m:\n\u001b[0;32m--> 203\u001b[0m     sock \u001b[39m=\u001b[39m connection\u001b[39m.\u001b[39;49mcreate_connection(\n\u001b[1;32m    204\u001b[0m         (\u001b[39mself\u001b[39;49m\u001b[39m.\u001b[39;49m_dns_host, \u001b[39mself\u001b[39;49m\u001b[39m.\u001b[39;49mport),\n\u001b[1;32m    205\u001b[0m         \u001b[39mself\u001b[39;49m\u001b[39m.\u001b[39;49mtimeout,\n\u001b[1;32m    206\u001b[0m         source_address\u001b[39m=\u001b[39;49m\u001b[39mself\u001b[39;49m\u001b[39m.\u001b[39;49msource_address,\n\u001b[1;32m    207\u001b[0m         socket_options\u001b[39m=\u001b[39;49m\u001b[39mself\u001b[39;49m\u001b[39m.\u001b[39;49msocket_options,\n\u001b[1;32m    208\u001b[0m     )\n\u001b[1;32m    209\u001b[0m \u001b[39mexcept\u001b[39;00m socket\u001b[39m.\u001b[39mgaierror \u001b[39mas\u001b[39;00m e:\n",
      "File \u001b[0;32m~/micromamba/envs/space/lib/python3.11/site-packages/urllib3/util/connection.py:60\u001b[0m, in \u001b[0;36mcreate_connection\u001b[0;34m(address, timeout, source_address, socket_options)\u001b[0m\n\u001b[1;32m     58\u001b[0m     \u001b[39mraise\u001b[39;00m LocationParseError(\u001b[39mf\u001b[39m\u001b[39m\"\u001b[39m\u001b[39m'\u001b[39m\u001b[39m{\u001b[39;00mhost\u001b[39m}\u001b[39;00m\u001b[39m'\u001b[39m\u001b[39m, label empty or too long\u001b[39m\u001b[39m\"\u001b[39m) \u001b[39mfrom\u001b[39;00m \u001b[39mNone\u001b[39;00m\n\u001b[0;32m---> 60\u001b[0m \u001b[39mfor\u001b[39;00m res \u001b[39min\u001b[39;00m socket\u001b[39m.\u001b[39;49mgetaddrinfo(host, port, family, socket\u001b[39m.\u001b[39;49mSOCK_STREAM):\n\u001b[1;32m     61\u001b[0m     af, socktype, proto, canonname, sa \u001b[39m=\u001b[39m res\n",
      "File \u001b[0;32m~/micromamba/envs/space/lib/python3.11/socket.py:962\u001b[0m, in \u001b[0;36mgetaddrinfo\u001b[0;34m(host, port, family, type, proto, flags)\u001b[0m\n\u001b[1;32m    961\u001b[0m addrlist \u001b[39m=\u001b[39m []\n\u001b[0;32m--> 962\u001b[0m \u001b[39mfor\u001b[39;00m res \u001b[39min\u001b[39;00m _socket\u001b[39m.\u001b[39;49mgetaddrinfo(host, port, family, \u001b[39mtype\u001b[39;49m, proto, flags):\n\u001b[1;32m    963\u001b[0m     af, socktype, proto, canonname, sa \u001b[39m=\u001b[39m res\n",
      "\u001b[0;31mgaierror\u001b[0m: [Errno 8] nodename nor servname provided, or not known",
      "\nThe above exception was the direct cause of the following exception:\n",
      "\u001b[0;31mNameResolutionError\u001b[0m                       Traceback (most recent call last)",
      "File \u001b[0;32m~/micromamba/envs/space/lib/python3.11/site-packages/urllib3/connectionpool.py:790\u001b[0m, in \u001b[0;36mHTTPConnectionPool.urlopen\u001b[0;34m(self, method, url, body, headers, retries, redirect, assert_same_host, timeout, pool_timeout, release_conn, chunked, body_pos, preload_content, decode_content, **response_kw)\u001b[0m\n\u001b[1;32m    789\u001b[0m \u001b[39m# Make the request on the HTTPConnection object\u001b[39;00m\n\u001b[0;32m--> 790\u001b[0m response \u001b[39m=\u001b[39m \u001b[39mself\u001b[39;49m\u001b[39m.\u001b[39;49m_make_request(\n\u001b[1;32m    791\u001b[0m     conn,\n\u001b[1;32m    792\u001b[0m     method,\n\u001b[1;32m    793\u001b[0m     url,\n\u001b[1;32m    794\u001b[0m     timeout\u001b[39m=\u001b[39;49mtimeout_obj,\n\u001b[1;32m    795\u001b[0m     body\u001b[39m=\u001b[39;49mbody,\n\u001b[1;32m    796\u001b[0m     headers\u001b[39m=\u001b[39;49mheaders,\n\u001b[1;32m    797\u001b[0m     chunked\u001b[39m=\u001b[39;49mchunked,\n\u001b[1;32m    798\u001b[0m     retries\u001b[39m=\u001b[39;49mretries,\n\u001b[1;32m    799\u001b[0m     response_conn\u001b[39m=\u001b[39;49mresponse_conn,\n\u001b[1;32m    800\u001b[0m     preload_content\u001b[39m=\u001b[39;49mpreload_content,\n\u001b[1;32m    801\u001b[0m     decode_content\u001b[39m=\u001b[39;49mdecode_content,\n\u001b[1;32m    802\u001b[0m     \u001b[39m*\u001b[39;49m\u001b[39m*\u001b[39;49mresponse_kw,\n\u001b[1;32m    803\u001b[0m )\n\u001b[1;32m    805\u001b[0m \u001b[39m# Everything went great!\u001b[39;00m\n",
      "File \u001b[0;32m~/micromamba/envs/space/lib/python3.11/site-packages/urllib3/connectionpool.py:491\u001b[0m, in \u001b[0;36mHTTPConnectionPool._make_request\u001b[0;34m(self, conn, method, url, body, headers, retries, timeout, chunked, response_conn, preload_content, decode_content, enforce_content_length)\u001b[0m\n\u001b[1;32m    490\u001b[0m         new_e \u001b[39m=\u001b[39m _wrap_proxy_error(new_e, conn\u001b[39m.\u001b[39mproxy\u001b[39m.\u001b[39mscheme)\n\u001b[0;32m--> 491\u001b[0m     \u001b[39mraise\u001b[39;00m new_e\n\u001b[1;32m    493\u001b[0m \u001b[39m# conn.request() calls http.client.*.request, not the method in\u001b[39;00m\n\u001b[1;32m    494\u001b[0m \u001b[39m# urllib3.request. It also calls makefile (recv) on the socket.\u001b[39;00m\n",
      "File \u001b[0;32m~/micromamba/envs/space/lib/python3.11/site-packages/urllib3/connectionpool.py:467\u001b[0m, in \u001b[0;36mHTTPConnectionPool._make_request\u001b[0;34m(self, conn, method, url, body, headers, retries, timeout, chunked, response_conn, preload_content, decode_content, enforce_content_length)\u001b[0m\n\u001b[1;32m    466\u001b[0m \u001b[39mtry\u001b[39;00m:\n\u001b[0;32m--> 467\u001b[0m     \u001b[39mself\u001b[39;49m\u001b[39m.\u001b[39;49m_validate_conn(conn)\n\u001b[1;32m    468\u001b[0m \u001b[39mexcept\u001b[39;00m (SocketTimeout, BaseSSLError) \u001b[39mas\u001b[39;00m e:\n",
      "File \u001b[0;32m~/micromamba/envs/space/lib/python3.11/site-packages/urllib3/connectionpool.py:1092\u001b[0m, in \u001b[0;36mHTTPSConnectionPool._validate_conn\u001b[0;34m(self, conn)\u001b[0m\n\u001b[1;32m   1091\u001b[0m \u001b[39mif\u001b[39;00m conn\u001b[39m.\u001b[39mis_closed:\n\u001b[0;32m-> 1092\u001b[0m     conn\u001b[39m.\u001b[39;49mconnect()\n\u001b[1;32m   1094\u001b[0m \u001b[39mif\u001b[39;00m \u001b[39mnot\u001b[39;00m conn\u001b[39m.\u001b[39mis_verified:\n",
      "File \u001b[0;32m~/micromamba/envs/space/lib/python3.11/site-packages/urllib3/connection.py:611\u001b[0m, in \u001b[0;36mHTTPSConnection.connect\u001b[0;34m(self)\u001b[0m\n\u001b[1;32m    610\u001b[0m sock: socket\u001b[39m.\u001b[39msocket \u001b[39m|\u001b[39m ssl\u001b[39m.\u001b[39mSSLSocket\n\u001b[0;32m--> 611\u001b[0m \u001b[39mself\u001b[39m\u001b[39m.\u001b[39msock \u001b[39m=\u001b[39m sock \u001b[39m=\u001b[39m \u001b[39mself\u001b[39;49m\u001b[39m.\u001b[39;49m_new_conn()\n\u001b[1;32m    612\u001b[0m server_hostname: \u001b[39mstr\u001b[39m \u001b[39m=\u001b[39m \u001b[39mself\u001b[39m\u001b[39m.\u001b[39mhost\n",
      "File \u001b[0;32m~/micromamba/envs/space/lib/python3.11/site-packages/urllib3/connection.py:210\u001b[0m, in \u001b[0;36mHTTPConnection._new_conn\u001b[0;34m(self)\u001b[0m\n\u001b[1;32m    209\u001b[0m \u001b[39mexcept\u001b[39;00m socket\u001b[39m.\u001b[39mgaierror \u001b[39mas\u001b[39;00m e:\n\u001b[0;32m--> 210\u001b[0m     \u001b[39mraise\u001b[39;00m NameResolutionError(\u001b[39mself\u001b[39m\u001b[39m.\u001b[39mhost, \u001b[39mself\u001b[39m, e) \u001b[39mfrom\u001b[39;00m \u001b[39me\u001b[39;00m\n\u001b[1;32m    211\u001b[0m \u001b[39mexcept\u001b[39;00m SocketTimeout \u001b[39mas\u001b[39;00m e:\n",
      "\u001b[0;31mNameResolutionError\u001b[0m: <urllib3.connection.HTTPSConnection object at 0x10a0f8690>: Failed to resolve 'https' ([Errno 8] nodename nor servname provided, or not known)",
      "\nThe above exception was the direct cause of the following exception:\n",
      "\u001b[0;31mMaxRetryError\u001b[0m                             Traceback (most recent call last)",
      "File \u001b[0;32m~/micromamba/envs/space/lib/python3.11/site-packages/requests/adapters.py:486\u001b[0m, in \u001b[0;36mHTTPAdapter.send\u001b[0;34m(self, request, stream, timeout, verify, cert, proxies)\u001b[0m\n\u001b[1;32m    485\u001b[0m \u001b[39mtry\u001b[39;00m:\n\u001b[0;32m--> 486\u001b[0m     resp \u001b[39m=\u001b[39m conn\u001b[39m.\u001b[39;49murlopen(\n\u001b[1;32m    487\u001b[0m         method\u001b[39m=\u001b[39;49mrequest\u001b[39m.\u001b[39;49mmethod,\n\u001b[1;32m    488\u001b[0m         url\u001b[39m=\u001b[39;49murl,\n\u001b[1;32m    489\u001b[0m         body\u001b[39m=\u001b[39;49mrequest\u001b[39m.\u001b[39;49mbody,\n\u001b[1;32m    490\u001b[0m         headers\u001b[39m=\u001b[39;49mrequest\u001b[39m.\u001b[39;49mheaders,\n\u001b[1;32m    491\u001b[0m         redirect\u001b[39m=\u001b[39;49m\u001b[39mFalse\u001b[39;49;00m,\n\u001b[1;32m    492\u001b[0m         assert_same_host\u001b[39m=\u001b[39;49m\u001b[39mFalse\u001b[39;49;00m,\n\u001b[1;32m    493\u001b[0m         preload_content\u001b[39m=\u001b[39;49m\u001b[39mFalse\u001b[39;49;00m,\n\u001b[1;32m    494\u001b[0m         decode_content\u001b[39m=\u001b[39;49m\u001b[39mFalse\u001b[39;49;00m,\n\u001b[1;32m    495\u001b[0m         retries\u001b[39m=\u001b[39;49m\u001b[39mself\u001b[39;49m\u001b[39m.\u001b[39;49mmax_retries,\n\u001b[1;32m    496\u001b[0m         timeout\u001b[39m=\u001b[39;49mtimeout,\n\u001b[1;32m    497\u001b[0m         chunked\u001b[39m=\u001b[39;49mchunked,\n\u001b[1;32m    498\u001b[0m     )\n\u001b[1;32m    500\u001b[0m \u001b[39mexcept\u001b[39;00m (ProtocolError, \u001b[39mOSError\u001b[39;00m) \u001b[39mas\u001b[39;00m err:\n",
      "File \u001b[0;32m~/micromamba/envs/space/lib/python3.11/site-packages/urllib3/connectionpool.py:844\u001b[0m, in \u001b[0;36mHTTPConnectionPool.urlopen\u001b[0;34m(self, method, url, body, headers, retries, redirect, assert_same_host, timeout, pool_timeout, release_conn, chunked, body_pos, preload_content, decode_content, **response_kw)\u001b[0m\n\u001b[1;32m    842\u001b[0m     new_e \u001b[39m=\u001b[39m ProtocolError(\u001b[39m\"\u001b[39m\u001b[39mConnection aborted.\u001b[39m\u001b[39m\"\u001b[39m, new_e)\n\u001b[0;32m--> 844\u001b[0m retries \u001b[39m=\u001b[39m retries\u001b[39m.\u001b[39;49mincrement(\n\u001b[1;32m    845\u001b[0m     method, url, error\u001b[39m=\u001b[39;49mnew_e, _pool\u001b[39m=\u001b[39;49m\u001b[39mself\u001b[39;49m, _stacktrace\u001b[39m=\u001b[39;49msys\u001b[39m.\u001b[39;49mexc_info()[\u001b[39m2\u001b[39;49m]\n\u001b[1;32m    846\u001b[0m )\n\u001b[1;32m    847\u001b[0m retries\u001b[39m.\u001b[39msleep()\n",
      "File \u001b[0;32m~/micromamba/envs/space/lib/python3.11/site-packages/urllib3/util/retry.py:515\u001b[0m, in \u001b[0;36mRetry.increment\u001b[0;34m(self, method, url, response, error, _pool, _stacktrace)\u001b[0m\n\u001b[1;32m    514\u001b[0m     reason \u001b[39m=\u001b[39m error \u001b[39mor\u001b[39;00m ResponseError(cause)\n\u001b[0;32m--> 515\u001b[0m     \u001b[39mraise\u001b[39;00m MaxRetryError(_pool, url, reason) \u001b[39mfrom\u001b[39;00m \u001b[39mreason\u001b[39;00m  \u001b[39m# type: ignore[arg-type]\u001b[39;00m\n\u001b[1;32m    517\u001b[0m log\u001b[39m.\u001b[39mdebug(\u001b[39m\"\u001b[39m\u001b[39mIncremented Retry for (url=\u001b[39m\u001b[39m'\u001b[39m\u001b[39m%s\u001b[39;00m\u001b[39m'\u001b[39m\u001b[39m): \u001b[39m\u001b[39m%r\u001b[39;00m\u001b[39m\"\u001b[39m, url, new_retry)\n",
      "\u001b[0;31mMaxRetryError\u001b[0m: HTTPSConnectionPool(host='https', port=443): Max retries exceeded with url: //staging-space-tum-ai.eu.auth0.com/oauth/token (Caused by NameResolutionError(\"<urllib3.connection.HTTPSConnection object at 0x10a0f8690>: Failed to resolve 'https' ([Errno 8] nodename nor servname provided, or not known)\"))",
      "\nDuring handling of the above exception, another exception occurred:\n",
      "\u001b[0;31mConnectionError\u001b[0m                           Traceback (most recent call last)",
      "\u001b[1;32m/Users/robinholzinger/robin/tumai/space/app/src/_dev/debug.ipynb Cell 3\u001b[0m line \u001b[0;36m2\n\u001b[1;32m      <a href='vscode-notebook-cell:/Users/robinholzinger/robin/tumai/space/app/src/_dev/debug.ipynb#W2sZmlsZQ%3D%3D?line=0'>1</a>\u001b[0m get_token \u001b[39m=\u001b[39m GetToken(domain, non_interactive_client_id, client_secret\u001b[39m=\u001b[39mnon_interactive_client_secret)\n\u001b[0;32m----> <a href='vscode-notebook-cell:/Users/robinholzinger/robin/tumai/space/app/src/_dev/debug.ipynb#W2sZmlsZQ%3D%3D?line=1'>2</a>\u001b[0m token \u001b[39m=\u001b[39m get_token\u001b[39m.\u001b[39;49mclient_credentials(\u001b[39mf\u001b[39;49m\u001b[39m'\u001b[39;49m\u001b[39mhttps://staging-space-tum-ai.eu.auth0.com/api/v2/\u001b[39;49m\u001b[39m'\u001b[39;49m)\n\u001b[1;32m      <a href='vscode-notebook-cell:/Users/robinholzinger/robin/tumai/space/app/src/_dev/debug.ipynb#W2sZmlsZQ%3D%3D?line=2'>3</a>\u001b[0m mgmt_api_token \u001b[39m=\u001b[39m token[\u001b[39m'\u001b[39m\u001b[39maccess_token\u001b[39m\u001b[39m'\u001b[39m]\n\u001b[1;32m      <a href='vscode-notebook-cell:/Users/robinholzinger/robin/tumai/space/app/src/_dev/debug.ipynb#W2sZmlsZQ%3D%3D?line=3'>4</a>\u001b[0m aud \u001b[39m=\u001b[39m \u001b[39m'\u001b[39m\u001b[39mhttps://api.space.staging.tum-ai.com/auth\u001b[39m\u001b[39m'\u001b[39m\n",
      "File \u001b[0;32m~/micromamba/envs/space/lib/python3.11/site-packages/auth0/authentication/get_token.py:111\u001b[0m, in \u001b[0;36mGetToken.client_credentials\u001b[0;34m(self, audience, grant_type)\u001b[0m\n\u001b[1;32m     90\u001b[0m \u001b[39mdef\u001b[39;00m \u001b[39mclient_credentials\u001b[39m(\n\u001b[1;32m     91\u001b[0m     \u001b[39mself\u001b[39m,\n\u001b[1;32m     92\u001b[0m     audience: \u001b[39mstr\u001b[39m,\n\u001b[1;32m     93\u001b[0m     grant_type: \u001b[39mstr\u001b[39m \u001b[39m=\u001b[39m \u001b[39m\"\u001b[39m\u001b[39mclient_credentials\u001b[39m\u001b[39m\"\u001b[39m,\n\u001b[1;32m     94\u001b[0m ) \u001b[39m-\u001b[39m\u001b[39m>\u001b[39m Any:\n\u001b[1;32m     95\u001b[0m \u001b[39m    \u001b[39m\u001b[39m\"\"\"Client credentials grant\u001b[39;00m\n\u001b[1;32m     96\u001b[0m \n\u001b[1;32m     97\u001b[0m \u001b[39m    This is the OAuth 2.0 grant that server processes utilize in\u001b[39;00m\n\u001b[0;32m   (...)\u001b[0m\n\u001b[1;32m    108\u001b[0m \u001b[39m        access_token\u001b[39;00m\n\u001b[1;32m    109\u001b[0m \u001b[39m    \"\"\"\u001b[39;00m\n\u001b[0;32m--> 111\u001b[0m     \u001b[39mreturn\u001b[39;00m \u001b[39mself\u001b[39;49m\u001b[39m.\u001b[39;49mauthenticated_post(\n\u001b[1;32m    112\u001b[0m         \u001b[39mf\u001b[39;49m\u001b[39m\"\u001b[39;49m\u001b[39m{\u001b[39;49;00m\u001b[39mself\u001b[39;49m\u001b[39m.\u001b[39;49mprotocol\u001b[39m}\u001b[39;49;00m\u001b[39m://\u001b[39;49m\u001b[39m{\u001b[39;49;00m\u001b[39mself\u001b[39;49m\u001b[39m.\u001b[39;49mdomain\u001b[39m}\u001b[39;49;00m\u001b[39m/oauth/token\u001b[39;49m\u001b[39m\"\u001b[39;49m,\n\u001b[1;32m    113\u001b[0m         data\u001b[39m=\u001b[39;49m{\n\u001b[1;32m    114\u001b[0m             \u001b[39m\"\u001b[39;49m\u001b[39mclient_id\u001b[39;49m\u001b[39m\"\u001b[39;49m: \u001b[39mself\u001b[39;49m\u001b[39m.\u001b[39;49mclient_id,\n\u001b[1;32m    115\u001b[0m             \u001b[39m\"\u001b[39;49m\u001b[39maudience\u001b[39;49m\u001b[39m\"\u001b[39;49m: audience,\n\u001b[1;32m    116\u001b[0m             \u001b[39m\"\u001b[39;49m\u001b[39mgrant_type\u001b[39;49m\u001b[39m\"\u001b[39;49m: grant_type,\n\u001b[1;32m    117\u001b[0m         },\n\u001b[1;32m    118\u001b[0m     )\n",
      "File \u001b[0;32m~/micromamba/envs/space/lib/python3.11/site-packages/auth0/authentication/base.py:73\u001b[0m, in \u001b[0;36mAuthenticationBase.authenticated_post\u001b[0;34m(self, url, data, headers)\u001b[0m\n\u001b[1;32m     67\u001b[0m \u001b[39mdef\u001b[39;00m \u001b[39mauthenticated_post\u001b[39m(\n\u001b[1;32m     68\u001b[0m     \u001b[39mself\u001b[39m,\n\u001b[1;32m     69\u001b[0m     url: \u001b[39mstr\u001b[39m,\n\u001b[1;32m     70\u001b[0m     data: \u001b[39mdict\u001b[39m[\u001b[39mstr\u001b[39m, Any],\n\u001b[1;32m     71\u001b[0m     headers: \u001b[39mdict\u001b[39m[\u001b[39mstr\u001b[39m, \u001b[39mstr\u001b[39m] \u001b[39m|\u001b[39m \u001b[39mNone\u001b[39;00m \u001b[39m=\u001b[39m \u001b[39mNone\u001b[39;00m,\n\u001b[1;32m     72\u001b[0m ) \u001b[39m-\u001b[39m\u001b[39m>\u001b[39m Any:\n\u001b[0;32m---> 73\u001b[0m     \u001b[39mreturn\u001b[39;00m \u001b[39mself\u001b[39;49m\u001b[39m.\u001b[39;49mclient\u001b[39m.\u001b[39;49mpost(\n\u001b[1;32m     74\u001b[0m         url, data\u001b[39m=\u001b[39;49m\u001b[39mself\u001b[39;49m\u001b[39m.\u001b[39;49m_add_client_authentication(data), headers\u001b[39m=\u001b[39;49mheaders\n\u001b[1;32m     75\u001b[0m     )\n",
      "File \u001b[0;32m~/micromamba/envs/space/lib/python3.11/site-packages/auth0/rest.py:189\u001b[0m, in \u001b[0;36mRestClient.post\u001b[0;34m(self, url, data, headers)\u001b[0m\n\u001b[1;32m    186\u001b[0m request_headers \u001b[39m=\u001b[39m \u001b[39mself\u001b[39m\u001b[39m.\u001b[39mbase_headers\u001b[39m.\u001b[39mcopy()\n\u001b[1;32m    187\u001b[0m request_headers\u001b[39m.\u001b[39mupdate(headers \u001b[39mor\u001b[39;00m {})\n\u001b[0;32m--> 189\u001b[0m response \u001b[39m=\u001b[39m requests\u001b[39m.\u001b[39;49mpost(\n\u001b[1;32m    190\u001b[0m     url, json\u001b[39m=\u001b[39;49mdata, headers\u001b[39m=\u001b[39;49mrequest_headers, timeout\u001b[39m=\u001b[39;49m\u001b[39mself\u001b[39;49m\u001b[39m.\u001b[39;49moptions\u001b[39m.\u001b[39;49mtimeout\n\u001b[1;32m    191\u001b[0m )\n\u001b[1;32m    192\u001b[0m \u001b[39mreturn\u001b[39;00m \u001b[39mself\u001b[39m\u001b[39m.\u001b[39m_process_response(response)\n",
      "File \u001b[0;32m~/micromamba/envs/space/lib/python3.11/site-packages/requests/api.py:115\u001b[0m, in \u001b[0;36mpost\u001b[0;34m(url, data, json, **kwargs)\u001b[0m\n\u001b[1;32m    103\u001b[0m \u001b[39mdef\u001b[39;00m \u001b[39mpost\u001b[39m(url, data\u001b[39m=\u001b[39m\u001b[39mNone\u001b[39;00m, json\u001b[39m=\u001b[39m\u001b[39mNone\u001b[39;00m, \u001b[39m*\u001b[39m\u001b[39m*\u001b[39mkwargs):\n\u001b[1;32m    104\u001b[0m \u001b[39m    \u001b[39m\u001b[39mr\u001b[39m\u001b[39m\"\"\"Sends a POST request.\u001b[39;00m\n\u001b[1;32m    105\u001b[0m \n\u001b[1;32m    106\u001b[0m \u001b[39m    :param url: URL for the new :class:`Request` object.\u001b[39;00m\n\u001b[0;32m   (...)\u001b[0m\n\u001b[1;32m    112\u001b[0m \u001b[39m    :rtype: requests.Response\u001b[39;00m\n\u001b[1;32m    113\u001b[0m \u001b[39m    \"\"\"\u001b[39;00m\n\u001b[0;32m--> 115\u001b[0m     \u001b[39mreturn\u001b[39;00m request(\u001b[39m\"\u001b[39;49m\u001b[39mpost\u001b[39;49m\u001b[39m\"\u001b[39;49m, url, data\u001b[39m=\u001b[39;49mdata, json\u001b[39m=\u001b[39;49mjson, \u001b[39m*\u001b[39;49m\u001b[39m*\u001b[39;49mkwargs)\n",
      "File \u001b[0;32m~/micromamba/envs/space/lib/python3.11/site-packages/requests/api.py:59\u001b[0m, in \u001b[0;36mrequest\u001b[0;34m(method, url, **kwargs)\u001b[0m\n\u001b[1;32m     55\u001b[0m \u001b[39m# By using the 'with' statement we are sure the session is closed, thus we\u001b[39;00m\n\u001b[1;32m     56\u001b[0m \u001b[39m# avoid leaving sockets open which can trigger a ResourceWarning in some\u001b[39;00m\n\u001b[1;32m     57\u001b[0m \u001b[39m# cases, and look like a memory leak in others.\u001b[39;00m\n\u001b[1;32m     58\u001b[0m \u001b[39mwith\u001b[39;00m sessions\u001b[39m.\u001b[39mSession() \u001b[39mas\u001b[39;00m session:\n\u001b[0;32m---> 59\u001b[0m     \u001b[39mreturn\u001b[39;00m session\u001b[39m.\u001b[39;49mrequest(method\u001b[39m=\u001b[39;49mmethod, url\u001b[39m=\u001b[39;49murl, \u001b[39m*\u001b[39;49m\u001b[39m*\u001b[39;49mkwargs)\n",
      "File \u001b[0;32m~/micromamba/envs/space/lib/python3.11/site-packages/requests/sessions.py:589\u001b[0m, in \u001b[0;36mSession.request\u001b[0;34m(self, method, url, params, data, headers, cookies, files, auth, timeout, allow_redirects, proxies, hooks, stream, verify, cert, json)\u001b[0m\n\u001b[1;32m    584\u001b[0m send_kwargs \u001b[39m=\u001b[39m {\n\u001b[1;32m    585\u001b[0m     \u001b[39m\"\u001b[39m\u001b[39mtimeout\u001b[39m\u001b[39m\"\u001b[39m: timeout,\n\u001b[1;32m    586\u001b[0m     \u001b[39m\"\u001b[39m\u001b[39mallow_redirects\u001b[39m\u001b[39m\"\u001b[39m: allow_redirects,\n\u001b[1;32m    587\u001b[0m }\n\u001b[1;32m    588\u001b[0m send_kwargs\u001b[39m.\u001b[39mupdate(settings)\n\u001b[0;32m--> 589\u001b[0m resp \u001b[39m=\u001b[39m \u001b[39mself\u001b[39;49m\u001b[39m.\u001b[39;49msend(prep, \u001b[39m*\u001b[39;49m\u001b[39m*\u001b[39;49msend_kwargs)\n\u001b[1;32m    591\u001b[0m \u001b[39mreturn\u001b[39;00m resp\n",
      "File \u001b[0;32m~/micromamba/envs/space/lib/python3.11/site-packages/requests/sessions.py:703\u001b[0m, in \u001b[0;36mSession.send\u001b[0;34m(self, request, **kwargs)\u001b[0m\n\u001b[1;32m    700\u001b[0m start \u001b[39m=\u001b[39m preferred_clock()\n\u001b[1;32m    702\u001b[0m \u001b[39m# Send the request\u001b[39;00m\n\u001b[0;32m--> 703\u001b[0m r \u001b[39m=\u001b[39m adapter\u001b[39m.\u001b[39;49msend(request, \u001b[39m*\u001b[39;49m\u001b[39m*\u001b[39;49mkwargs)\n\u001b[1;32m    705\u001b[0m \u001b[39m# Total elapsed time of the request (approximately)\u001b[39;00m\n\u001b[1;32m    706\u001b[0m elapsed \u001b[39m=\u001b[39m preferred_clock() \u001b[39m-\u001b[39m start\n",
      "File \u001b[0;32m~/micromamba/envs/space/lib/python3.11/site-packages/requests/adapters.py:519\u001b[0m, in \u001b[0;36mHTTPAdapter.send\u001b[0;34m(self, request, stream, timeout, verify, cert, proxies)\u001b[0m\n\u001b[1;32m    515\u001b[0m     \u001b[39mif\u001b[39;00m \u001b[39misinstance\u001b[39m(e\u001b[39m.\u001b[39mreason, _SSLError):\n\u001b[1;32m    516\u001b[0m         \u001b[39m# This branch is for urllib3 v1.22 and later.\u001b[39;00m\n\u001b[1;32m    517\u001b[0m         \u001b[39mraise\u001b[39;00m SSLError(e, request\u001b[39m=\u001b[39mrequest)\n\u001b[0;32m--> 519\u001b[0m     \u001b[39mraise\u001b[39;00m \u001b[39mConnectionError\u001b[39;00m(e, request\u001b[39m=\u001b[39mrequest)\n\u001b[1;32m    521\u001b[0m \u001b[39mexcept\u001b[39;00m ClosedPoolError \u001b[39mas\u001b[39;00m e:\n\u001b[1;32m    522\u001b[0m     \u001b[39mraise\u001b[39;00m \u001b[39mConnectionError\u001b[39;00m(e, request\u001b[39m=\u001b[39mrequest)\n",
      "\u001b[0;31mConnectionError\u001b[0m: HTTPSConnectionPool(host='https', port=443): Max retries exceeded with url: //staging-space-tum-ai.eu.auth0.com/oauth/token (Caused by NameResolutionError(\"<urllib3.connection.HTTPSConnection object at 0x10a0f8690>: Failed to resolve 'https' ([Errno 8] nodename nor servname provided, or not known)\"))"
     ]
    }
   ],
   "source": [
    "token = get_token.client_credentials(f'https://staging-space-tum-ai.eu.auth0.com/api/v2/')\n",
    "mgmt_api_token = token['access_token']\n",
    "aud = 'https://api.space.staging.tum-ai.com/auth'\n",
    "jwks_url = f'{domain}/.well-known/jwks.json'\n",
    "issuer = f'{domain}/'"
   ]
  },
  {
   "cell_type": "code",
   "execution_count": 17,
   "metadata": {},
   "outputs": [],
   "source": [
    "auth0 = Auth0(domain, mgmt_api_token)"
   ]
  },
  {
   "cell_type": "code",
   "execution_count": 20,
   "metadata": {},
   "outputs": [
    {
     "name": "stdout",
     "output_type": "stream",
     "text": [
      "JWT is valid.\n",
      "{'nickname': 'rnholzinger01', 'name': 'rnholzinger01@outlook.com', 'picture': 'https://s.gravatar.com/avatar/3aef56ad9331e1b8cd25f09f12ccdeeb?s=480&r=pg&d=https%3A%2F%2Fcdn.auth0.com%2Favatars%2Frn.png', 'updated_at': '2023-10-09T15:02:29.523Z', 'iss': 'https://staging-space-tum-ai.eu.auth0.com/', 'aud': '7EVHUJ64049a1obWG21dUGKd8Ep76q0f', 'iat': 1696863752, 'exp': 1696899752, 'sub': 'auth0|65241605f4bea0146a1a542c', 'sid': 'AiAlK6Sf0XZ-JglNjP9wtZDnkmiEMLhi', 'nonce': 'E__hckef-_dupt0B3XEqXZcgZwYECALETwaWYT9BtjA'}\n"
     ]
    }
   ],
   "source": [
    "from jose.backends.cryptography_backend import default_backend\n",
    "from jose.constants import ALGORITHMS\n",
    "from jose.exceptions import ExpiredSignatureError, JWTError\n",
    "from jose.jwt import decode\n",
    "import requests\n",
    "\n",
    "# Define the JWKS URL\n",
    "jwks_url = \"https://staging-space-tum-ai.eu.auth0.com/.well-known/jwks.json\"\n",
    "\n",
    "# Fetch the JWKS (JSON Web Key Set)\n",
    "response = requests.get(jwks_url)\n",
    "\n",
    "if response.status_code != 200:\n",
    "    print(\"Failed to fetch JWKS from the URL.\")\n",
    "    exit()\n",
    "\n",
    "jwks_data = response.json()\n",
    "\n",
    "# Create a CryptographyBackend instance\n",
    "crypto_backend = default_backend\n",
    "\n",
    "# Verify the JWT\n",
    "try:\n",
    "    decoded_token = decode(\n",
    "        bearer_token,\n",
    "        jwks_data,\n",
    "        algorithms=ALGORITHMS.RS256,\n",
    "        audience=\"7EVHUJ64049a1obWG21dUGKd8Ep76q0f\",\n",
    "        issuer=issuer,\n",
    "    )\n",
    "    print(\"JWT is valid.\")\n",
    "    print(decoded_token)\n",
    "except ExpiredSignatureError:\n",
    "    print(\"JWT has expired.\")\n",
    "except JWTError as e:\n",
    "    print(\"Authentication failed: Token could not be verified:\", e)\n"
   ]
  },
  {
   "cell_type": "code",
   "execution_count": null,
   "metadata": {},
   "outputs": [],
   "source": []
  },
  {
   "cell_type": "code",
   "execution_count": 151,
   "metadata": {},
   "outputs": [
    {
     "ename": "ModuleNotFoundError",
     "evalue": "No module named 'jwkest.jwkest'",
     "output_type": "error",
     "traceback": [
      "\u001b[0;31m---------------------------------------------------------------------------\u001b[0m",
      "\u001b[0;31mModuleNotFoundError\u001b[0m                       Traceback (most recent call last)",
      "\u001b[1;32m/Users/robinholzinger/robin/tumai/space/app/src/_dev/debug.ipynb Cell 5\u001b[0m line \u001b[0;36m3\n\u001b[1;32m      <a href='vscode-notebook-cell:/Users/robinholzinger/robin/tumai/space/app/src/_dev/debug.ipynb#X12sZmlsZQ%3D%3D?line=0'>1</a>\u001b[0m \u001b[39mimport\u001b[39;00m \u001b[39mjwt\u001b[39;00m\n\u001b[1;32m      <a href='vscode-notebook-cell:/Users/robinholzinger/robin/tumai/space/app/src/_dev/debug.ipynb#X12sZmlsZQ%3D%3D?line=1'>2</a>\u001b[0m \u001b[39mimport\u001b[39;00m \u001b[39mrequests\u001b[39;00m\n\u001b[0;32m----> <a href='vscode-notebook-cell:/Users/robinholzinger/robin/tumai/space/app/src/_dev/debug.ipynb#X12sZmlsZQ%3D%3D?line=2'>3</a>\u001b[0m \u001b[39mfrom\u001b[39;00m \u001b[39mjwkest\u001b[39;00m\u001b[39m.\u001b[39;00m\u001b[39mjwkest\u001b[39;00m \u001b[39mimport\u001b[39;00m jws_verify\n\u001b[1;32m      <a href='vscode-notebook-cell:/Users/robinholzinger/robin/tumai/space/app/src/_dev/debug.ipynb#X12sZmlsZQ%3D%3D?line=3'>4</a>\u001b[0m \u001b[39mfrom\u001b[39;00m \u001b[39mjwkest\u001b[39;00m\u001b[39m.\u001b[39;00m\u001b[39mjwkest\u001b[39;00m \u001b[39mimport\u001b[39;00m JWKS\n\u001b[1;32m      <a href='vscode-notebook-cell:/Users/robinholzinger/robin/tumai/space/app/src/_dev/debug.ipynb#X12sZmlsZQ%3D%3D?line=4'>5</a>\u001b[0m \u001b[39mfrom\u001b[39;00m \u001b[39murllib\u001b[39;00m\u001b[39m.\u001b[39;00m\u001b[39mparse\u001b[39;00m \u001b[39mimport\u001b[39;00m urlparse\n",
      "\u001b[0;31mModuleNotFoundError\u001b[0m: No module named 'jwkest.jwkest'"
     ]
    }
   ],
   "source": [
    "import jwt\n",
    "import requests\n",
    "from urllib.parse import urlparse\n",
    "\n",
    "# Define the JWT access token\n",
    "access_token = \"eyJhbGciOiJSUzI1NiIsInR5cCI6IkpXVCIsImtpZCI6IjVFYWhRclZvUDd1Qm1Bd1hrVDhWWCJ9.eyJnaXZlbl9uYW1lIjoiVFVNLmFpIiwiZmFtaWx5X25hbWUiOiJJVCAmIEluZnJhc3RydWN0dXJlIiwibmlja25hbWUiOiJpdC5pbmZyYXN0cnVjdHVyZSIsIm5hbWUiOiJUVU0uYWkgSVQgJiBJbmZyYXN0cnVjdHVyZSIsInBpY3R1cmUiOiJodHRwczovL2xoMy5nb29nbGV1c2VyY29udGVudC5jb20vYS9BQ2c4b2NJVFV1Y2hMaTFFYjNYaWtUeGFKcEZKUkNxVExqVHpVUUNKMnkxSDNFRUw9czk2LWMiLCJsb2NhbGUiOiJlbi1HQiIsInVwZGF0ZWRfYXQiOiIyMDIzLTEwLTA5VDE0OjI1OjMyLjQwNFoiLCJpc3MiOiJodHRwczovL3N0YWdpbmctc3BhY2UtdHVtLWFpLmV1LmF1dGgwLmNvbS8iLCJhdWQiOiI3RVZIVUo2NDA0OWExb2JXRzIxZFVHS2Q4RXA3NnEwZiIsImlhdCI6MTY5Njg2MTUzMiwiZXhwIjoxNjk2ODk3NTMyLCJzdWIiOiJnb29nbGUtb2F1dGgyfDExMjQ4MjMyMzE3MTI5MTgyNzcyMiIsInNpZCI6IjdUUU85anZwMkxRNFpHdm5SeHQ2YzF4aFlQdTFXc1ROIiwibm9uY2UiOiJoYzdWUTNQbzJway1kZGdkNjR5U3l5ZFlrSnB0UVpyUVpzVVJsMzZKckVvIn0.pMyZas_i8ixFYhDxe7i5cKa-4sxNmMY6zaeS1CDPDeiIu-GGCfypFgqG9U9XzF2EzFNa3uA3EwW9Y6b-rmet37sRcWnOEjCiH0N3aIxwFHQOP-YCaa_q1VxtVq9BYVpBb5-zXTgao9GLLj-Wn8_NJodSxoi1fhB4v74heED4iKVFnPgFecBhDOrzDUkuIXceeS01tFbCKG2CWCkchdLD6mx37ISF-u_e6JYsrMqCCXLsdoaCq3ANADRlNLC3mFCsMFC3rh5xthpjIi2Sjwd89ITBqG4HA_mXakDsriR3xHlhW7wx1HZFIkh7GF1JXHfXrXM8xB_TVbWtFZIwOW6w3w\"\n",
    "\n",
    "# Define the JWKS URL\n",
    "jwks_url = \"https://staging-space-tum-ai.eu.auth0.com/.well-known/jwks.json\"\n",
    "\n",
    "# Fetch the JWKS (JSON Web Key Set)\n",
    "response = requests.get(jwks_url)\n",
    "\n",
    "if response.status_code != 200:\n",
    "    print(\"Failed to fetch JWKS from the URL.\")\n",
    "    exit()\n",
    "\n",
    "jwks_data = response.json()\n",
    "\n",
    "# Create a JWKS object\n",
    "jwks = JWKS()\n",
    "jwks.load_jwks(jwks_data)\n",
    "\n",
    "# Verify the JWT\n",
    "try:\n",
    "    header, claims = jws_verify(access_token, jwks, \"RS256\")\n",
    "    print(\"JWT is valid.\")\n",
    "    print(claims)\n",
    "except Exception as e:\n",
    "    print(\"Authentication failed: Token could not be verified:\", e)\n"
   ]
  },
  {
   "cell_type": "code",
   "execution_count": 145,
   "metadata": {},
   "outputs": [
    {
     "ename": "Auth0Error",
     "evalue": "401: Bad audience: https://api.space.staging.tum-ai.com/auth https://staging-space-tum-ai.eu.auth0.com/userinfo",
     "output_type": "error",
     "traceback": [
      "\u001b[0;31m---------------------------------------------------------------------------\u001b[0m",
      "\u001b[0;31mAuth0Error\u001b[0m                                Traceback (most recent call last)",
      "\u001b[1;32m/Users/robinholzinger/robin/tumai/space/app/src/_dev/debug.ipynb Cell 6\u001b[0m line \u001b[0;36m2\n\u001b[1;32m      <a href='vscode-notebook-cell:/Users/robinholzinger/robin/tumai/space/app/src/_dev/debug.ipynb#X61sZmlsZQ%3D%3D?line=0'>1</a>\u001b[0m auth0_custom \u001b[39m=\u001b[39m Auth0(domain, bearer_token)\n\u001b[0;32m----> <a href='vscode-notebook-cell:/Users/robinholzinger/robin/tumai/space/app/src/_dev/debug.ipynb#X61sZmlsZQ%3D%3D?line=1'>2</a>\u001b[0m auth0_custom\u001b[39m.\u001b[39;49musers\u001b[39m.\u001b[39;49mlist()\n",
      "File \u001b[0;32m~/micromamba/envs/space/lib/python3.11/site-packages/auth0/management/users.py:113\u001b[0m, in \u001b[0;36mUsers.list\u001b[0;34m(self, page, per_page, sort, connection, q, search_engine, include_totals, fields, include_fields)\u001b[0m\n\u001b[1;32m     67\u001b[0m \u001b[39m\u001b[39m\u001b[39m\"\"\"List or search users.\u001b[39;00m\n\u001b[1;32m     68\u001b[0m \n\u001b[1;32m     69\u001b[0m \u001b[39mArgs:\u001b[39;00m\n\u001b[0;32m   (...)\u001b[0m\n\u001b[1;32m    100\u001b[0m \u001b[39mSee: https://auth0.com/docs/api/management/v2#!/Users/get_users\u001b[39;00m\n\u001b[1;32m    101\u001b[0m \u001b[39m\"\"\"\u001b[39;00m\n\u001b[1;32m    102\u001b[0m params \u001b[39m=\u001b[39m {\n\u001b[1;32m    103\u001b[0m     \u001b[39m\"\u001b[39m\u001b[39mper_page\u001b[39m\u001b[39m\"\u001b[39m: per_page,\n\u001b[1;32m    104\u001b[0m     \u001b[39m\"\u001b[39m\u001b[39mpage\u001b[39m\u001b[39m\"\u001b[39m: page,\n\u001b[0;32m   (...)\u001b[0m\n\u001b[1;32m    111\u001b[0m     \u001b[39m\"\u001b[39m\u001b[39msearch_engine\u001b[39m\u001b[39m\"\u001b[39m: search_engine,\n\u001b[1;32m    112\u001b[0m }\n\u001b[0;32m--> 113\u001b[0m \u001b[39mreturn\u001b[39;00m \u001b[39mself\u001b[39;49m\u001b[39m.\u001b[39;49mclient\u001b[39m.\u001b[39;49mget(\u001b[39mself\u001b[39;49m\u001b[39m.\u001b[39;49m_url(), params\u001b[39m=\u001b[39;49mparams)\n",
      "File \u001b[0;32m~/micromamba/envs/space/lib/python3.11/site-packages/auth0/rest.py:178\u001b[0m, in \u001b[0;36mRestClient.get\u001b[0;34m(self, url, params, headers)\u001b[0m\n\u001b[1;32m    175\u001b[0m         sleep(wait \u001b[39m/\u001b[39m \u001b[39m1000\u001b[39m)\n\u001b[1;32m    177\u001b[0m \u001b[39m# Return the final Response\u001b[39;00m\n\u001b[0;32m--> 178\u001b[0m \u001b[39mreturn\u001b[39;00m \u001b[39mself\u001b[39;49m\u001b[39m.\u001b[39;49m_process_response(response)\n",
      "File \u001b[0;32m~/micromamba/envs/space/lib/python3.11/site-packages/auth0/rest.py:263\u001b[0m, in \u001b[0;36mRestClient._process_response\u001b[0;34m(self, response)\u001b[0m\n\u001b[1;32m    262\u001b[0m \u001b[39mdef\u001b[39;00m \u001b[39m_process_response\u001b[39m(\u001b[39mself\u001b[39m, response: requests\u001b[39m.\u001b[39mResponse) \u001b[39m-\u001b[39m\u001b[39m>\u001b[39m Any:\n\u001b[0;32m--> 263\u001b[0m     \u001b[39mreturn\u001b[39;00m \u001b[39mself\u001b[39;49m\u001b[39m.\u001b[39;49m_parse(response)\u001b[39m.\u001b[39;49mcontent()\n",
      "File \u001b[0;32m~/micromamba/envs/space/lib/python3.11/site-packages/auth0/rest.py:299\u001b[0m, in \u001b[0;36mResponse.content\u001b[0;34m(self)\u001b[0m\n\u001b[1;32m    291\u001b[0m     \u001b[39mif\u001b[39;00m \u001b[39mself\u001b[39m\u001b[39m.\u001b[39m_error_code() \u001b[39m==\u001b[39m \u001b[39m\"\u001b[39m\u001b[39mmfa_required\u001b[39m\u001b[39m\"\u001b[39m:\n\u001b[1;32m    292\u001b[0m         \u001b[39mraise\u001b[39;00m Auth0Error(\n\u001b[1;32m    293\u001b[0m             status_code\u001b[39m=\u001b[39m\u001b[39mself\u001b[39m\u001b[39m.\u001b[39m_status_code,\n\u001b[1;32m    294\u001b[0m             error_code\u001b[39m=\u001b[39m\u001b[39mself\u001b[39m\u001b[39m.\u001b[39m_error_code(),\n\u001b[1;32m    295\u001b[0m             message\u001b[39m=\u001b[39m\u001b[39mself\u001b[39m\u001b[39m.\u001b[39m_error_message(),\n\u001b[1;32m    296\u001b[0m             content\u001b[39m=\u001b[39m\u001b[39mself\u001b[39m\u001b[39m.\u001b[39m_content,\n\u001b[1;32m    297\u001b[0m         )\n\u001b[0;32m--> 299\u001b[0m     \u001b[39mraise\u001b[39;00m Auth0Error(\n\u001b[1;32m    300\u001b[0m         status_code\u001b[39m=\u001b[39m\u001b[39mself\u001b[39m\u001b[39m.\u001b[39m_status_code,\n\u001b[1;32m    301\u001b[0m         error_code\u001b[39m=\u001b[39m\u001b[39mself\u001b[39m\u001b[39m.\u001b[39m_error_code(),\n\u001b[1;32m    302\u001b[0m         message\u001b[39m=\u001b[39m\u001b[39mself\u001b[39m\u001b[39m.\u001b[39m_error_message(),\n\u001b[1;32m    303\u001b[0m     )\n\u001b[1;32m    304\u001b[0m \u001b[39melse\u001b[39;00m:\n\u001b[1;32m    305\u001b[0m     \u001b[39mreturn\u001b[39;00m \u001b[39mself\u001b[39m\u001b[39m.\u001b[39m_content\n",
      "\u001b[0;31mAuth0Error\u001b[0m: 401: Bad audience: https://api.space.staging.tum-ai.com/auth https://staging-space-tum-ai.eu.auth0.com/userinfo"
     ]
    }
   ],
   "source": [
    "auth0_custom = Auth0(domain, bearer_token)\n",
    "auth0_custom.device_credentials()"
   ]
  },
  {
   "cell_type": "code",
   "execution_count": 135,
   "metadata": {},
   "outputs": [],
   "source": [
    "aud = 'https://api.space.staging.tum-ai.com/auth'\n",
    "jwks_url = f'https://{domain}/.well-known/jwks.json'\n",
    "issuer = f'https://{domain}/'"
   ]
  },
  {
   "cell_type": "code",
   "execution_count": 132,
   "metadata": {},
   "outputs": [],
   "source": [
    "import json\n",
    "from urllib.request import urlopen\n",
    "import jwt\n",
    "\n",
    "jwks = json.loads(\"\"\"\n",
    "                  {\"keys\":[{\"kty\":\"RSA\",\"use\":\"sig\",\"n\":\"uQw-pE-zKb2NKCGnTzKN3sygD1_As8T4pn6bV8CBZ2MzuJlgv7MmUkKeDU2f0OfRtX6JWXWhzw_kAKgryn5gy6V23WC33Y9E8b9E0oM6KoKM0d64Vu5iBRwOb7PvMQsqjgcXcgaQ5v3Z1jPy126qavoQae_WamPJ2Wg_LkrXUxqoC2dJ-yKcinYEPFtH_eKNWjno_83FA6fkNdXmUasN6jBDIygMaeW1Pe0IPiUpTe6IaaEguHvX5sHy1QEa3DYhDP9vXPcgzM9SypzqQujxRK9vZpO3KVdDSg-RHesl3od59C45GAj3w33l-L2aQtr7CmxDBkYLopDKRbZtM7ak7Q\",\"e\":\"AQAB\",\"kid\":\"5EahQrVoP7uBmAwXkT8VX\",\"x5t\":\"gnOrgomTSW7jIK3bO9ppr0TX10o\",\"x5c\":[\"MIIDHTCCAgWgAwIBAgIJFZc0ym60qPOGMA0GCSqGSIb3DQEBCwUAMCwxKjAoBgNVBAMTIXN0YWdpbmctc3BhY2UtdHVtLWFpLmV1LmF1dGgwLmNvbTAeFw0yMzEwMDgxMzE0NTJaFw0zNzA2MTYxMzE0NTJaMCwxKjAoBgNVBAMTIXN0YWdpbmctc3BhY2UtdHVtLWFpLmV1LmF1dGgwLmNvbTCCASIwDQYJKoZIhvcNAQEBBQADggEPADCCAQoCggEBALkMPqRPsym9jSghp08yjd7MoA9fwLPE+KZ+m1fAgWdjM7iZYL+zJlJCng1Nn9Dn0bV+iVl1oc8P5ACoK8p+YMuldt1gt92PRPG/RNKDOiqCjNHeuFbuYgUcDm+z7zELKo4HF3IGkOb92dYz8tduqmr6EGnv1mpjydloPy5K11MaqAtnSfsinIp2BDxbR/3ijVo56P/NxQOn5DXV5lGrDeowQyMoDGnltT3tCD4lKU3uiGmhILh71+bB8tUBGtw2IQz/b1z3IMzPUsqc6kLo8USvb2aTtylXQ0oPkR3rJd6HefQuORgI98N95fi9mkLa+wpsQwZGC6KQykW2bTO2pO0CAwEAAaNCMEAwDwYDVR0TAQH/BAUwAwEB/zAdBgNVHQ4EFgQUWsAVOo09mCrbAW7p6JRBqR9W4UIwDgYDVR0PAQH/BAQDAgKEMA0GCSqGSIb3DQEBCwUAA4IBAQCWMPEY46rYUD8W6SqiKSw0ICLcwiCzsYXQgvWywP2DM2F7uqm2se189u320kit9u8vJDcC6edBlaYka1H0S/V8dknMVV+eRKhh0JL3Og7FPUMPRGMV9vorOUeD4RZTYDqYDZdR7ujESsxWTZP5SDk0qP/Y3bofiPaNvCf30UCKqGx5zzUFiW8rBb/iV30Thyg4tTxP7LqmUUGun0LerI9N2nUHnwxNIzpY2G7aXs9T04+z3eqhS6HL6cSdET0Fuo6AvgxQlZD6cD3CW2yCSAd3sqZa6U/9FsUwpf+e322X+IjZJjcXEBLHZ7d3aYD6Ax5HpFPvXbG2bbeXNru6niDZ\"],\"alg\":\"RS256\"},{\"kty\":\"RSA\",\"use\":\"sig\",\"n\":\"zwVEGZcT4DfJagyGUOYUAnQK9fqWpSOzMoW7Qd93NtSq2DTl1qvS_Oj_H0i-0PWL8EEHq2v-TDnRQ3G1_-cX9zrXywP0u6Oq9wG_o-WMFdkpmposxS1ZyDk5kLQK2yZbXqSAyZTqvV-Z2uwj5m4aWRQQBb6HzMJeouL4z9PctPIGP4db_REWq-QlFn6sXPKJG9ExJb23hC8glyYaBvVXLkwdb81KR1XdkdZd_I8EJwx9QAzOllF_UIP9_GDUThmJ8i9xVeGh-kVtAiBw2OXX_NYxfXtSvkbkHjk5wdfuo8BlpRJMSsae5Kafe58LmcOqxUaGqkd0b_Ix3DRRO5T8GQ\",\"e\":\"AQAB\",\"kid\":\"ieqxyhnEWc941x0-6HRiP\",\"x5t\":\"Hx3Tmyjq74T-g0xDanu47xSFtRY\",\"x5c\":[\"MIIDHTCCAgWgAwIBAgIJdGcagjkklQzKMA0GCSqGSIb3DQEBCwUAMCwxKjAoBgNVBAMTIXN0YWdpbmctc3BhY2UtdHVtLWFpLmV1LmF1dGgwLmNvbTAeFw0yMzEwMDgxMzE0NTJaFw0zNzA2MTYxMzE0NTJaMCwxKjAoBgNVBAMTIXN0YWdpbmctc3BhY2UtdHVtLWFpLmV1LmF1dGgwLmNvbTCCASIwDQYJKoZIhvcNAQEBBQADggEPADCCAQoCggEBAM8FRBmXE+A3yWoMhlDmFAJ0CvX6lqUjszKFu0HfdzbUqtg05dar0vzo/x9IvtD1i/BBB6tr/kw50UNxtf/nF/c618sD9LujqvcBv6PljBXZKZqaLMUtWcg5OZC0CtsmW16kgMmU6r1fmdrsI+ZuGlkUEAW+h8zCXqLi+M/T3LTyBj+HW/0RFqvkJRZ+rFzyiRvRMSW9t4QvIJcmGgb1Vy5MHW/NSkdV3ZHWXfyPBCcMfUAMzpZRf1CD/fxg1E4ZifIvcVXhofpFbQIgcNjl1/zWMX17Ur5G5B45OcHX7qPAZaUSTErGnuSmn3ufC5nDqsVGhqpHdG/yMdw0UTuU/BkCAwEAAaNCMEAwDwYDVR0TAQH/BAUwAwEB/zAdBgNVHQ4EFgQUy7XFY8VzMYrxsESBqPqtzBWy7B0wDgYDVR0PAQH/BAQDAgKEMA0GCSqGSIb3DQEBCwUAA4IBAQDKKj/3CUmR1VuF3YZ72BPMP19r3j2jpj3JgrjTXTVHT3Nx/6vwLb3h2fXaolZFKPcK84sBAzvYPqo5moFos+Rrb4wtnEApu3x7P6BDUeoXa4Uo/bQ2f+rB4reQ9UPwb7bvsDMj8qTbFUpJ6DVb7C4n5AkT9JdIU8kpmmoBUGkyS7+TbM53RKw2FgPgXvJ/tOKwLW0DbOYVdnzoL19CAS/t3fc3NumQ3b+45jSd2LjeGRMaZYiw42lSicJUDtqRLbiVxfaWeoOjKp6dBRlYIuECnKEKekuBO/5aSkAGhDVTH4O0ZzgqWQesp7RXHyNrFUGngs3qT8+b0gjm+n8Yzias\"],\"alg\":\"RS256\"}]}\n",
    "\"\"\")\n",
    "unverified_header = jwt.get_unverified_header(bearer_token)\n",
    "rsa_key = {}"
   ]
  },
  {
   "cell_type": "code",
   "execution_count": 136,
   "metadata": {},
   "outputs": [],
   "source": [
    "jwk_set = {\n",
    "    \"keys\": jwks[\"keys\"]\n",
    "}"
   ]
  },
  {
   "cell_type": "code",
   "execution_count": 137,
   "metadata": {},
   "outputs": [],
   "source": [
    "\n",
    "for key in jwks[\"keys\"]:\n",
    "    if key[\"kid\"] == unverified_header[\"kid\"]:\n",
    "        rsa_key = {\n",
    "            \"kty\": key[\"kty\"],\n",
    "            \"kid\": key[\"kid\"],\n",
    "            \"use\": key[\"use\"],\n",
    "            \"n\": key[\"n\"],\n",
    "            \"e\": key[\"e\"]\n",
    "        }\n",
    "        break"
   ]
  },
  {
   "cell_type": "code",
   "execution_count": 138,
   "metadata": {},
   "outputs": [
    {
     "name": "stdout",
     "output_type": "stream",
     "text": [
      "Expecting a PEM-formatted key.\n"
     ]
    },
    {
     "ename": "Exception",
     "evalue": "({'code': 'invalid_header', 'description': 'Unable to parse authentication token.'}, 401)",
     "output_type": "error",
     "traceback": [
      "\u001b[0;31m---------------------------------------------------------------------------\u001b[0m",
      "\u001b[0;31mTypeError\u001b[0m                                 Traceback (most recent call last)",
      "\u001b[1;32m/Users/robinholzinger/robin/tumai/space/app/src/_dev/debug.ipynb Cell 10\u001b[0m line \u001b[0;36m9\n\u001b[1;32m      <a href='vscode-notebook-cell:/Users/robinholzinger/robin/tumai/space/app/src/_dev/debug.ipynb#X36sZmlsZQ%3D%3D?line=7'>8</a>\u001b[0m     \u001b[39m# using that variable in the decode method\u001b[39;00m\n\u001b[0;32m----> <a href='vscode-notebook-cell:/Users/robinholzinger/robin/tumai/space/app/src/_dev/debug.ipynb#X36sZmlsZQ%3D%3D?line=8'>9</a>\u001b[0m     jwt\u001b[39m.\u001b[39;49mdecode(\n\u001b[1;32m     <a href='vscode-notebook-cell:/Users/robinholzinger/robin/tumai/space/app/src/_dev/debug.ipynb#X36sZmlsZQ%3D%3D?line=9'>10</a>\u001b[0m         bearer_token,\n\u001b[1;32m     <a href='vscode-notebook-cell:/Users/robinholzinger/robin/tumai/space/app/src/_dev/debug.ipynb#X36sZmlsZQ%3D%3D?line=10'>11</a>\u001b[0m         key\u001b[39m=\u001b[39;49mrsa_key,\n\u001b[1;32m     <a href='vscode-notebook-cell:/Users/robinholzinger/robin/tumai/space/app/src/_dev/debug.ipynb#X36sZmlsZQ%3D%3D?line=11'>12</a>\u001b[0m         algorithms\u001b[39m=\u001b[39;49m[header_data[\u001b[39m'\u001b[39;49m\u001b[39malg\u001b[39;49m\u001b[39m'\u001b[39;49m], ],\n\u001b[1;32m     <a href='vscode-notebook-cell:/Users/robinholzinger/robin/tumai/space/app/src/_dev/debug.ipynb#X36sZmlsZQ%3D%3D?line=12'>13</a>\u001b[0m         issuer\u001b[39m=\u001b[39;49missuer,\n\u001b[1;32m     <a href='vscode-notebook-cell:/Users/robinholzinger/robin/tumai/space/app/src/_dev/debug.ipynb#X36sZmlsZQ%3D%3D?line=13'>14</a>\u001b[0m         audience\u001b[39m=\u001b[39;49maud\n\u001b[1;32m     <a href='vscode-notebook-cell:/Users/robinholzinger/robin/tumai/space/app/src/_dev/debug.ipynb#X36sZmlsZQ%3D%3D?line=14'>15</a>\u001b[0m     )\n\u001b[1;32m     <a href='vscode-notebook-cell:/Users/robinholzinger/robin/tumai/space/app/src/_dev/debug.ipynb#X36sZmlsZQ%3D%3D?line=15'>16</a>\u001b[0m \u001b[39mexcept\u001b[39;00m jwt\u001b[39m.\u001b[39mExpiredSignatureError:\n",
      "File \u001b[0;32m~/micromamba/envs/space/lib/python3.11/site-packages/jwt/api_jwt.py:210\u001b[0m, in \u001b[0;36mPyJWT.decode\u001b[0;34m(self, jwt, key, algorithms, options, verify, detached_payload, audience, issuer, leeway, **kwargs)\u001b[0m\n\u001b[1;32m    204\u001b[0m     warnings\u001b[39m.\u001b[39mwarn(\n\u001b[1;32m    205\u001b[0m         \u001b[39m\"\u001b[39m\u001b[39mpassing additional kwargs to decode() is deprecated \u001b[39m\u001b[39m\"\u001b[39m\n\u001b[1;32m    206\u001b[0m         \u001b[39m\"\u001b[39m\u001b[39mand will be removed in pyjwt version 3. \u001b[39m\u001b[39m\"\u001b[39m\n\u001b[1;32m    207\u001b[0m         \u001b[39mf\u001b[39m\u001b[39m\"\u001b[39m\u001b[39mUnsupported kwargs: \u001b[39m\u001b[39m{\u001b[39;00m\u001b[39mtuple\u001b[39m(kwargs\u001b[39m.\u001b[39mkeys())\u001b[39m}\u001b[39;00m\u001b[39m\"\u001b[39m,\n\u001b[1;32m    208\u001b[0m         RemovedInPyjwt3Warning,\n\u001b[1;32m    209\u001b[0m     )\n\u001b[0;32m--> 210\u001b[0m decoded \u001b[39m=\u001b[39m \u001b[39mself\u001b[39;49m\u001b[39m.\u001b[39;49mdecode_complete(\n\u001b[1;32m    211\u001b[0m     jwt,\n\u001b[1;32m    212\u001b[0m     key,\n\u001b[1;32m    213\u001b[0m     algorithms,\n\u001b[1;32m    214\u001b[0m     options,\n\u001b[1;32m    215\u001b[0m     verify\u001b[39m=\u001b[39;49mverify,\n\u001b[1;32m    216\u001b[0m     detached_payload\u001b[39m=\u001b[39;49mdetached_payload,\n\u001b[1;32m    217\u001b[0m     audience\u001b[39m=\u001b[39;49maudience,\n\u001b[1;32m    218\u001b[0m     issuer\u001b[39m=\u001b[39;49missuer,\n\u001b[1;32m    219\u001b[0m     leeway\u001b[39m=\u001b[39;49mleeway,\n\u001b[1;32m    220\u001b[0m )\n\u001b[1;32m    221\u001b[0m \u001b[39mreturn\u001b[39;00m decoded[\u001b[39m\"\u001b[39m\u001b[39mpayload\u001b[39m\u001b[39m\"\u001b[39m]\n",
      "File \u001b[0;32m~/micromamba/envs/space/lib/python3.11/site-packages/jwt/api_jwt.py:151\u001b[0m, in \u001b[0;36mPyJWT.decode_complete\u001b[0;34m(self, jwt, key, algorithms, options, verify, detached_payload, audience, issuer, leeway, **kwargs)\u001b[0m\n\u001b[1;32m    147\u001b[0m     \u001b[39mraise\u001b[39;00m DecodeError(\n\u001b[1;32m    148\u001b[0m         \u001b[39m'\u001b[39m\u001b[39mIt is required that you pass in a value for the \u001b[39m\u001b[39m\"\u001b[39m\u001b[39malgorithms\u001b[39m\u001b[39m\"\u001b[39m\u001b[39m argument when calling decode().\u001b[39m\u001b[39m'\u001b[39m\n\u001b[1;32m    149\u001b[0m     )\n\u001b[0;32m--> 151\u001b[0m decoded \u001b[39m=\u001b[39m api_jws\u001b[39m.\u001b[39;49mdecode_complete(\n\u001b[1;32m    152\u001b[0m     jwt,\n\u001b[1;32m    153\u001b[0m     key\u001b[39m=\u001b[39;49mkey,\n\u001b[1;32m    154\u001b[0m     algorithms\u001b[39m=\u001b[39;49malgorithms,\n\u001b[1;32m    155\u001b[0m     options\u001b[39m=\u001b[39;49moptions,\n\u001b[1;32m    156\u001b[0m     detached_payload\u001b[39m=\u001b[39;49mdetached_payload,\n\u001b[1;32m    157\u001b[0m )\n\u001b[1;32m    159\u001b[0m payload \u001b[39m=\u001b[39m \u001b[39mself\u001b[39m\u001b[39m.\u001b[39m_decode_payload(decoded)\n",
      "File \u001b[0;32m~/micromamba/envs/space/lib/python3.11/site-packages/jwt/api_jws.py:209\u001b[0m, in \u001b[0;36mPyJWS.decode_complete\u001b[0;34m(self, jwt, key, algorithms, options, detached_payload, **kwargs)\u001b[0m\n\u001b[1;32m    208\u001b[0m \u001b[39mif\u001b[39;00m verify_signature:\n\u001b[0;32m--> 209\u001b[0m     \u001b[39mself\u001b[39;49m\u001b[39m.\u001b[39;49m_verify_signature(signing_input, header, signature, key, algorithms)\n\u001b[1;32m    211\u001b[0m \u001b[39mreturn\u001b[39;00m {\n\u001b[1;32m    212\u001b[0m     \u001b[39m\"\u001b[39m\u001b[39mpayload\u001b[39m\u001b[39m\"\u001b[39m: payload,\n\u001b[1;32m    213\u001b[0m     \u001b[39m\"\u001b[39m\u001b[39mheader\u001b[39m\u001b[39m\"\u001b[39m: header,\n\u001b[1;32m    214\u001b[0m     \u001b[39m\"\u001b[39m\u001b[39msignature\u001b[39m\u001b[39m\"\u001b[39m: signature,\n\u001b[1;32m    215\u001b[0m }\n",
      "File \u001b[0;32m~/micromamba/envs/space/lib/python3.11/site-packages/jwt/api_jws.py:307\u001b[0m, in \u001b[0;36mPyJWS._verify_signature\u001b[0;34m(self, signing_input, header, signature, key, algorithms)\u001b[0m\n\u001b[1;32m    306\u001b[0m     \u001b[39mraise\u001b[39;00m InvalidAlgorithmError(\u001b[39m\"\u001b[39m\u001b[39mAlgorithm not supported\u001b[39m\u001b[39m\"\u001b[39m) \u001b[39mfrom\u001b[39;00m \u001b[39me\u001b[39;00m\n\u001b[0;32m--> 307\u001b[0m prepared_key \u001b[39m=\u001b[39m alg_obj\u001b[39m.\u001b[39;49mprepare_key(key)\n\u001b[1;32m    309\u001b[0m \u001b[39mif\u001b[39;00m \u001b[39mnot\u001b[39;00m alg_obj\u001b[39m.\u001b[39mverify(signing_input, prepared_key, signature):\n",
      "File \u001b[0;32m~/micromamba/envs/space/lib/python3.11/site-packages/jwt/algorithms.py:341\u001b[0m, in \u001b[0;36mRSAAlgorithm.prepare_key\u001b[0;34m(self, key)\u001b[0m\n\u001b[1;32m    340\u001b[0m \u001b[39mif\u001b[39;00m \u001b[39mnot\u001b[39;00m \u001b[39misinstance\u001b[39m(key, (\u001b[39mbytes\u001b[39m, \u001b[39mstr\u001b[39m)):\n\u001b[0;32m--> 341\u001b[0m     \u001b[39mraise\u001b[39;00m \u001b[39mTypeError\u001b[39;00m(\u001b[39m\"\u001b[39m\u001b[39mExpecting a PEM-formatted key.\u001b[39m\u001b[39m\"\u001b[39m)\n\u001b[1;32m    343\u001b[0m key_bytes \u001b[39m=\u001b[39m force_bytes(key)\n",
      "\u001b[0;31mTypeError\u001b[0m: Expecting a PEM-formatted key.",
      "\nDuring handling of the above exception, another exception occurred:\n",
      "\u001b[0;31mException\u001b[0m                                 Traceback (most recent call last)",
      "\u001b[1;32m/Users/robinholzinger/robin/tumai/space/app/src/_dev/debug.ipynb Cell 10\u001b[0m line \u001b[0;36m2\n\u001b[1;32m     <a href='vscode-notebook-cell:/Users/robinholzinger/robin/tumai/space/app/src/_dev/debug.ipynb#X36sZmlsZQ%3D%3D?line=18'>19</a>\u001b[0m \u001b[39mexcept\u001b[39;00m \u001b[39mException\u001b[39;00m \u001b[39mas\u001b[39;00m ex:\n\u001b[1;32m     <a href='vscode-notebook-cell:/Users/robinholzinger/robin/tumai/space/app/src/_dev/debug.ipynb#X36sZmlsZQ%3D%3D?line=19'>20</a>\u001b[0m     \u001b[39mprint\u001b[39m(ex)\n\u001b[0;32m---> <a href='vscode-notebook-cell:/Users/robinholzinger/robin/tumai/space/app/src/_dev/debug.ipynb#X36sZmlsZQ%3D%3D?line=20'>21</a>\u001b[0m     \u001b[39mraise\u001b[39;00m \u001b[39mException\u001b[39;00m({\u001b[39m\"\u001b[39m\u001b[39mcode\u001b[39m\u001b[39m\"\u001b[39m: \u001b[39m\"\u001b[39m\u001b[39minvalid_header\u001b[39m\u001b[39m\"\u001b[39m,\n\u001b[1;32m     <a href='vscode-notebook-cell:/Users/robinholzinger/robin/tumai/space/app/src/_dev/debug.ipynb#X36sZmlsZQ%3D%3D?line=21'>22</a>\u001b[0m                     \u001b[39m\"\u001b[39m\u001b[39mdescription\u001b[39m\u001b[39m\"\u001b[39m:\n\u001b[1;32m     <a href='vscode-notebook-cell:/Users/robinholzinger/robin/tumai/space/app/src/_dev/debug.ipynb#X36sZmlsZQ%3D%3D?line=22'>23</a>\u001b[0m                         \u001b[39m\"\u001b[39m\u001b[39mUnable to parse authentication\u001b[39m\u001b[39m\"\u001b[39m\n\u001b[1;32m     <a href='vscode-notebook-cell:/Users/robinholzinger/robin/tumai/space/app/src/_dev/debug.ipynb#X36sZmlsZQ%3D%3D?line=23'>24</a>\u001b[0m                         \u001b[39m\"\u001b[39m\u001b[39m token.\u001b[39m\u001b[39m\"\u001b[39m}, \u001b[39m401\u001b[39m)\n",
      "\u001b[0;31mException\u001b[0m: ({'code': 'invalid_header', 'description': 'Unable to parse authentication token.'}, 401)"
     ]
    }
   ],
   "source": [
    "import rsa\n",
    "\n",
    "\n",
    "if rsa_key:\n",
    "    try:\n",
    "        header_data = jwt.get_unverified_header(bearer_token)\n",
    "        \n",
    "        # using that variable in the decode method\n",
    "        jwt.decode(\n",
    "            bearer_token,\n",
    "            key=rsa_key,\n",
    "            algorithms=[header_data['alg'], ],\n",
    "            issuer=issuer,\n",
    "            audience=aud\n",
    "        )\n",
    "    except jwt.ExpiredSignatureError:\n",
    "        raise Exception({\"code\": \"token_expired\",\n",
    "                        \"description\": \"token is expired\"}, 401)\n",
    "    except Exception as ex:\n",
    "        print(ex)\n",
    "        raise Exception({\"code\": \"invalid_header\",\n",
    "                        \"description\":\n",
    "                            \"Unable to parse authentication\"\n",
    "                            \" token.\"}, 401)"
   ]
  },
  {
   "cell_type": "code",
   "execution_count": 108,
   "metadata": {},
   "outputs": [
    {
     "data": {
      "text/plain": [
       "{'alg': 'RS256', 'typ': 'JWT', 'kid': '5EahQrVoP7uBmAwXkT8VX'}"
      ]
     },
     "execution_count": 108,
     "metadata": {},
     "output_type": "execute_result"
    }
   ],
   "source": [
    "unverified_claims = jwt.get_unverified_header(bearer_token)\n",
    "jwt."
   ]
  },
  {
   "cell_type": "code",
   "execution_count": null,
   "metadata": {},
   "outputs": [],
   "source": []
  },
  {
   "cell_type": "code",
   "execution_count": null,
   "metadata": {},
   "outputs": [],
   "source": []
  },
  {
   "cell_type": "code",
   "execution_count": 131,
   "metadata": {},
   "outputs": [
    {
     "ename": "TokenValidationError",
     "evalue": "Audience (aud) claim mismatch in the ID token; expected \"https://api.space.staging.tum-ai.com/auth\" but found \"7EVHUJ64049a1obWG21dUGKd8Ep76q0f\"",
     "output_type": "error",
     "traceback": [
      "\u001b[0;31m---------------------------------------------------------------------------\u001b[0m",
      "\u001b[0;31mTokenValidationError\u001b[0m                      Traceback (most recent call last)",
      "\u001b[1;32m/Users/robinholzinger/robin/tumai/space/app/src/_dev/debug.ipynb Cell 14\u001b[0m line \u001b[0;36m3\n\u001b[1;32m      <a href='vscode-notebook-cell:/Users/robinholzinger/robin/tumai/space/app/src/_dev/debug.ipynb#X32sZmlsZQ%3D%3D?line=0'>1</a>\u001b[0m sv \u001b[39m=\u001b[39m token_verifier\u001b[39m.\u001b[39mAsymmetricSignatureVerifier(jwks_url)  \u001b[39m# Reusable instance\u001b[39;00m\n\u001b[1;32m      <a href='vscode-notebook-cell:/Users/robinholzinger/robin/tumai/space/app/src/_dev/debug.ipynb#X32sZmlsZQ%3D%3D?line=1'>2</a>\u001b[0m tv \u001b[39m=\u001b[39m token_verifier\u001b[39m.\u001b[39mTokenVerifier(signature_verifier\u001b[39m=\u001b[39msv, issuer\u001b[39m=\u001b[39missuer, audience\u001b[39m=\u001b[39maud)\n\u001b[0;32m----> <a href='vscode-notebook-cell:/Users/robinholzinger/robin/tumai/space/app/src/_dev/debug.ipynb#X32sZmlsZQ%3D%3D?line=2'>3</a>\u001b[0m tv\u001b[39m.\u001b[39;49mverify(bearer_token)\n",
      "File \u001b[0;32m~/micromamba/envs/space/lib/python3.11/site-packages/auth0/authentication/token_verifier.py:321\u001b[0m, in \u001b[0;36mTokenVerifier.verify\u001b[0;34m(self, token, nonce, max_age, organization)\u001b[0m\n\u001b[1;32m    318\u001b[0m payload \u001b[39m=\u001b[39m \u001b[39mself\u001b[39m\u001b[39m.\u001b[39m_sv\u001b[39m.\u001b[39mverify_signature(token)\n\u001b[1;32m    320\u001b[0m \u001b[39m# Verify claims\u001b[39;00m\n\u001b[0;32m--> 321\u001b[0m \u001b[39mself\u001b[39;49m\u001b[39m.\u001b[39;49m_verify_payload(payload, nonce, max_age, organization)\n\u001b[1;32m    323\u001b[0m \u001b[39mreturn\u001b[39;00m payload\n",
      "File \u001b[0;32m~/micromamba/envs/space/lib/python3.11/site-packages/auth0/authentication/token_verifier.py:363\u001b[0m, in \u001b[0;36mTokenVerifier._verify_payload\u001b[0;34m(self, payload, nonce, max_age, organization)\u001b[0m\n\u001b[1;32m    358\u001b[0m     \u001b[39mraise\u001b[39;00m TokenValidationError(\n\u001b[1;32m    359\u001b[0m         \u001b[39m'\u001b[39m\u001b[39mAudience (aud) claim mismatch in the ID token; expected \u001b[39m\u001b[39m\"\u001b[39m\u001b[39m{}\u001b[39;00m\u001b[39m\"\u001b[39m\u001b[39m but was \u001b[39m\u001b[39m'\u001b[39m\n\u001b[1;32m    360\u001b[0m         \u001b[39m'\u001b[39m\u001b[39mnot one of \u001b[39m\u001b[39m\"\u001b[39m\u001b[39m{}\u001b[39;00m\u001b[39m\"\u001b[39m\u001b[39m'\u001b[39m\u001b[39m.\u001b[39mformat(\u001b[39mself\u001b[39m\u001b[39m.\u001b[39maud, payload_audiences)\n\u001b[1;32m    361\u001b[0m     )\n\u001b[1;32m    362\u001b[0m \u001b[39melif\u001b[39;00m \u001b[39misinstance\u001b[39m(payload[\u001b[39m\"\u001b[39m\u001b[39maud\u001b[39m\u001b[39m\"\u001b[39m], \u001b[39mstr\u001b[39m) \u001b[39mand\u001b[39;00m payload[\u001b[39m\"\u001b[39m\u001b[39maud\u001b[39m\u001b[39m\"\u001b[39m] \u001b[39m!=\u001b[39m \u001b[39mself\u001b[39m\u001b[39m.\u001b[39maud:\n\u001b[0;32m--> 363\u001b[0m     \u001b[39mraise\u001b[39;00m TokenValidationError(\n\u001b[1;32m    364\u001b[0m         \u001b[39m'\u001b[39m\u001b[39mAudience (aud) claim mismatch in the ID token; expected \u001b[39m\u001b[39m\"\u001b[39m\u001b[39m{}\u001b[39;00m\u001b[39m\"\u001b[39m\u001b[39m \u001b[39m\u001b[39m'\u001b[39m\n\u001b[1;32m    365\u001b[0m         \u001b[39m'\u001b[39m\u001b[39mbut found \u001b[39m\u001b[39m\"\u001b[39m\u001b[39m{}\u001b[39;00m\u001b[39m\"\u001b[39m\u001b[39m'\u001b[39m\u001b[39m.\u001b[39mformat(\u001b[39mself\u001b[39m\u001b[39m.\u001b[39maud, payload[\u001b[39m\"\u001b[39m\u001b[39maud\u001b[39m\u001b[39m\"\u001b[39m])\n\u001b[1;32m    366\u001b[0m     )\n\u001b[1;32m    368\u001b[0m \u001b[39m# --Time validation (epoch)--\u001b[39;00m\n\u001b[1;32m    369\u001b[0m now \u001b[39m=\u001b[39m \u001b[39mself\u001b[39m\u001b[39m.\u001b[39m_clock \u001b[39mor\u001b[39;00m time\u001b[39m.\u001b[39mtime()\n",
      "\u001b[0;31mTokenValidationError\u001b[0m: Audience (aud) claim mismatch in the ID token; expected \"https://api.space.staging.tum-ai.com/auth\" but found \"7EVHUJ64049a1obWG21dUGKd8Ep76q0f\""
     ]
    }
   ],
   "source": [
    "sv = token_verifier.AsymmetricSignatureVerifier(jwks_url)  # Reusable instance\n",
    "tv = token_verifier.TokenVerifier(signature_verifier=sv, issuer=issuer, audience=aud)\n",
    "tv.verify(bearer_token)"
   ]
  },
  {
   "cell_type": "code",
   "execution_count": 139,
   "metadata": {},
   "outputs": [],
   "source": [
    "vf = token_verifier.AsymmetricSignatureVerifier(\"RS256\")"
   ]
  },
  {
   "cell_type": "code",
   "execution_count": 64,
   "metadata": {},
   "outputs": [
    {
     "ename": "MissingSchema",
     "evalue": "Invalid URL 'RS256': No scheme supplied. Perhaps you meant https://RS256?",
     "output_type": "error",
     "traceback": [
      "\u001b[0;31m---------------------------------------------------------------------------\u001b[0m",
      "\u001b[0;31mMissingSchema\u001b[0m                             Traceback (most recent call last)",
      "\u001b[1;32m/Users/robinholzinger/robin/tumai/space/app/src/_dev/debug.ipynb Cell 7\u001b[0m line \u001b[0;36m1\n\u001b[0;32m----> <a href='vscode-notebook-cell:/Users/robinholzinger/robin/tumai/space/app/src/_dev/debug.ipynb#X11sZmlsZQ%3D%3D?line=0'>1</a>\u001b[0m vf\u001b[39m.\u001b[39;49mverify_signature(bearer_token)\n",
      "File \u001b[0;32m~/micromamba/envs/space/lib/python3.11/site-packages/auth0/authentication/token_verifier.py:116\u001b[0m, in \u001b[0;36mSignatureVerifier.verify_signature\u001b[0;34m(self, token)\u001b[0m\n\u001b[1;32m    114\u001b[0m \u001b[39mif\u001b[39;00m kid \u001b[39mis\u001b[39;00m \u001b[39mNone\u001b[39;00m:\n\u001b[1;32m    115\u001b[0m     kid \u001b[39m=\u001b[39m \u001b[39m\"\u001b[39m\u001b[39m\"\u001b[39m\n\u001b[0;32m--> 116\u001b[0m secret_or_certificate \u001b[39m=\u001b[39m \u001b[39mself\u001b[39;49m\u001b[39m.\u001b[39;49m_fetch_key(key_id\u001b[39m=\u001b[39;49mkid)\n\u001b[1;32m    118\u001b[0m \u001b[39mreturn\u001b[39;00m \u001b[39mself\u001b[39m\u001b[39m.\u001b[39m_decode_jwt(token, secret_or_certificate)\n",
      "File \u001b[0;32m~/micromamba/envs/space/lib/python3.11/site-packages/auth0/authentication/token_verifier.py:254\u001b[0m, in \u001b[0;36mAsymmetricSignatureVerifier._fetch_key\u001b[0;34m(self, key_id)\u001b[0m\n\u001b[1;32m    253\u001b[0m \u001b[39mdef\u001b[39;00m \u001b[39m_fetch_key\u001b[39m(\u001b[39mself\u001b[39m, key_id: \u001b[39mstr\u001b[39m) \u001b[39m-\u001b[39m\u001b[39m>\u001b[39m RSAPublicKey:\n\u001b[0;32m--> 254\u001b[0m     \u001b[39mreturn\u001b[39;00m \u001b[39mself\u001b[39;49m\u001b[39m.\u001b[39;49m_fetcher\u001b[39m.\u001b[39;49mget_key(key_id)\n",
      "File \u001b[0;32m~/micromamba/envs/space/lib/python3.11/site-packages/auth0/authentication/token_verifier.py:223\u001b[0m, in \u001b[0;36mJwksFetcher.get_key\u001b[0;34m(self, key_id)\u001b[0m\n\u001b[1;32m    211\u001b[0m \u001b[39mdef\u001b[39;00m \u001b[39mget_key\u001b[39m(\u001b[39mself\u001b[39m, key_id: \u001b[39mstr\u001b[39m) \u001b[39m-\u001b[39m\u001b[39m>\u001b[39m RSAPublicKey:\n\u001b[1;32m    212\u001b[0m \u001b[39m    \u001b[39m\u001b[39m\"\"\"Obtains the JWK associated with the given key id.\u001b[39;00m\n\u001b[1;32m    213\u001b[0m \n\u001b[1;32m    214\u001b[0m \u001b[39m    Args:\u001b[39;00m\n\u001b[0;32m   (...)\u001b[0m\n\u001b[1;32m    221\u001b[0m \u001b[39m        TokenValidationError: when a key with that id cannot be found\u001b[39;00m\n\u001b[1;32m    222\u001b[0m \u001b[39m    \"\"\"\u001b[39;00m\n\u001b[0;32m--> 223\u001b[0m     keys \u001b[39m=\u001b[39m \u001b[39mself\u001b[39;49m\u001b[39m.\u001b[39;49m_fetch_jwks()\n\u001b[1;32m    225\u001b[0m     \u001b[39mif\u001b[39;00m keys \u001b[39mand\u001b[39;00m key_id \u001b[39min\u001b[39;00m keys:\n\u001b[1;32m    226\u001b[0m         \u001b[39mreturn\u001b[39;00m keys[key_id]\n",
      "File \u001b[0;32m~/micromamba/envs/space/lib/python3.11/site-packages/auth0/authentication/token_verifier.py:186\u001b[0m, in \u001b[0;36mJwksFetcher._fetch_jwks\u001b[0;34m(self, force)\u001b[0m\n\u001b[1;32m    184\u001b[0m \u001b[39mif\u001b[39;00m force \u001b[39mor\u001b[39;00m \u001b[39mself\u001b[39m\u001b[39m.\u001b[39m_cache_expired():\n\u001b[1;32m    185\u001b[0m     \u001b[39mself\u001b[39m\u001b[39m.\u001b[39m_cache_value \u001b[39m=\u001b[39m {}\n\u001b[0;32m--> 186\u001b[0m     response \u001b[39m=\u001b[39m requests\u001b[39m.\u001b[39;49mget(\u001b[39mself\u001b[39;49m\u001b[39m.\u001b[39;49m_jwks_url)\n\u001b[1;32m    187\u001b[0m     \u001b[39mif\u001b[39;00m response\u001b[39m.\u001b[39mok:\n\u001b[1;32m    188\u001b[0m         jwks: \u001b[39mdict\u001b[39m[\u001b[39mstr\u001b[39m, Any] \u001b[39m=\u001b[39m response\u001b[39m.\u001b[39mjson()\n",
      "File \u001b[0;32m~/micromamba/envs/space/lib/python3.11/site-packages/requests/api.py:73\u001b[0m, in \u001b[0;36mget\u001b[0;34m(url, params, **kwargs)\u001b[0m\n\u001b[1;32m     62\u001b[0m \u001b[39mdef\u001b[39;00m \u001b[39mget\u001b[39m(url, params\u001b[39m=\u001b[39m\u001b[39mNone\u001b[39;00m, \u001b[39m*\u001b[39m\u001b[39m*\u001b[39mkwargs):\n\u001b[1;32m     63\u001b[0m \u001b[39m    \u001b[39m\u001b[39mr\u001b[39m\u001b[39m\"\"\"Sends a GET request.\u001b[39;00m\n\u001b[1;32m     64\u001b[0m \n\u001b[1;32m     65\u001b[0m \u001b[39m    :param url: URL for the new :class:`Request` object.\u001b[39;00m\n\u001b[0;32m   (...)\u001b[0m\n\u001b[1;32m     70\u001b[0m \u001b[39m    :rtype: requests.Response\u001b[39;00m\n\u001b[1;32m     71\u001b[0m \u001b[39m    \"\"\"\u001b[39;00m\n\u001b[0;32m---> 73\u001b[0m     \u001b[39mreturn\u001b[39;00m request(\u001b[39m\"\u001b[39;49m\u001b[39mget\u001b[39;49m\u001b[39m\"\u001b[39;49m, url, params\u001b[39m=\u001b[39;49mparams, \u001b[39m*\u001b[39;49m\u001b[39m*\u001b[39;49mkwargs)\n",
      "File \u001b[0;32m~/micromamba/envs/space/lib/python3.11/site-packages/requests/api.py:59\u001b[0m, in \u001b[0;36mrequest\u001b[0;34m(method, url, **kwargs)\u001b[0m\n\u001b[1;32m     55\u001b[0m \u001b[39m# By using the 'with' statement we are sure the session is closed, thus we\u001b[39;00m\n\u001b[1;32m     56\u001b[0m \u001b[39m# avoid leaving sockets open which can trigger a ResourceWarning in some\u001b[39;00m\n\u001b[1;32m     57\u001b[0m \u001b[39m# cases, and look like a memory leak in others.\u001b[39;00m\n\u001b[1;32m     58\u001b[0m \u001b[39mwith\u001b[39;00m sessions\u001b[39m.\u001b[39mSession() \u001b[39mas\u001b[39;00m session:\n\u001b[0;32m---> 59\u001b[0m     \u001b[39mreturn\u001b[39;00m session\u001b[39m.\u001b[39;49mrequest(method\u001b[39m=\u001b[39;49mmethod, url\u001b[39m=\u001b[39;49murl, \u001b[39m*\u001b[39;49m\u001b[39m*\u001b[39;49mkwargs)\n",
      "File \u001b[0;32m~/micromamba/envs/space/lib/python3.11/site-packages/requests/sessions.py:575\u001b[0m, in \u001b[0;36mSession.request\u001b[0;34m(self, method, url, params, data, headers, cookies, files, auth, timeout, allow_redirects, proxies, hooks, stream, verify, cert, json)\u001b[0m\n\u001b[1;32m    562\u001b[0m \u001b[39m# Create the Request.\u001b[39;00m\n\u001b[1;32m    563\u001b[0m req \u001b[39m=\u001b[39m Request(\n\u001b[1;32m    564\u001b[0m     method\u001b[39m=\u001b[39mmethod\u001b[39m.\u001b[39mupper(),\n\u001b[1;32m    565\u001b[0m     url\u001b[39m=\u001b[39murl,\n\u001b[0;32m   (...)\u001b[0m\n\u001b[1;32m    573\u001b[0m     hooks\u001b[39m=\u001b[39mhooks,\n\u001b[1;32m    574\u001b[0m )\n\u001b[0;32m--> 575\u001b[0m prep \u001b[39m=\u001b[39m \u001b[39mself\u001b[39;49m\u001b[39m.\u001b[39;49mprepare_request(req)\n\u001b[1;32m    577\u001b[0m proxies \u001b[39m=\u001b[39m proxies \u001b[39mor\u001b[39;00m {}\n\u001b[1;32m    579\u001b[0m settings \u001b[39m=\u001b[39m \u001b[39mself\u001b[39m\u001b[39m.\u001b[39mmerge_environment_settings(\n\u001b[1;32m    580\u001b[0m     prep\u001b[39m.\u001b[39murl, proxies, stream, verify, cert\n\u001b[1;32m    581\u001b[0m )\n",
      "File \u001b[0;32m~/micromamba/envs/space/lib/python3.11/site-packages/requests/sessions.py:486\u001b[0m, in \u001b[0;36mSession.prepare_request\u001b[0;34m(self, request)\u001b[0m\n\u001b[1;32m    483\u001b[0m     auth \u001b[39m=\u001b[39m get_netrc_auth(request\u001b[39m.\u001b[39murl)\n\u001b[1;32m    485\u001b[0m p \u001b[39m=\u001b[39m PreparedRequest()\n\u001b[0;32m--> 486\u001b[0m p\u001b[39m.\u001b[39;49mprepare(\n\u001b[1;32m    487\u001b[0m     method\u001b[39m=\u001b[39;49mrequest\u001b[39m.\u001b[39;49mmethod\u001b[39m.\u001b[39;49mupper(),\n\u001b[1;32m    488\u001b[0m     url\u001b[39m=\u001b[39;49mrequest\u001b[39m.\u001b[39;49murl,\n\u001b[1;32m    489\u001b[0m     files\u001b[39m=\u001b[39;49mrequest\u001b[39m.\u001b[39;49mfiles,\n\u001b[1;32m    490\u001b[0m     data\u001b[39m=\u001b[39;49mrequest\u001b[39m.\u001b[39;49mdata,\n\u001b[1;32m    491\u001b[0m     json\u001b[39m=\u001b[39;49mrequest\u001b[39m.\u001b[39;49mjson,\n\u001b[1;32m    492\u001b[0m     headers\u001b[39m=\u001b[39;49mmerge_setting(\n\u001b[1;32m    493\u001b[0m         request\u001b[39m.\u001b[39;49mheaders, \u001b[39mself\u001b[39;49m\u001b[39m.\u001b[39;49mheaders, dict_class\u001b[39m=\u001b[39;49mCaseInsensitiveDict\n\u001b[1;32m    494\u001b[0m     ),\n\u001b[1;32m    495\u001b[0m     params\u001b[39m=\u001b[39;49mmerge_setting(request\u001b[39m.\u001b[39;49mparams, \u001b[39mself\u001b[39;49m\u001b[39m.\u001b[39;49mparams),\n\u001b[1;32m    496\u001b[0m     auth\u001b[39m=\u001b[39;49mmerge_setting(auth, \u001b[39mself\u001b[39;49m\u001b[39m.\u001b[39;49mauth),\n\u001b[1;32m    497\u001b[0m     cookies\u001b[39m=\u001b[39;49mmerged_cookies,\n\u001b[1;32m    498\u001b[0m     hooks\u001b[39m=\u001b[39;49mmerge_hooks(request\u001b[39m.\u001b[39;49mhooks, \u001b[39mself\u001b[39;49m\u001b[39m.\u001b[39;49mhooks),\n\u001b[1;32m    499\u001b[0m )\n\u001b[1;32m    500\u001b[0m \u001b[39mreturn\u001b[39;00m p\n",
      "File \u001b[0;32m~/micromamba/envs/space/lib/python3.11/site-packages/requests/models.py:368\u001b[0m, in \u001b[0;36mPreparedRequest.prepare\u001b[0;34m(self, method, url, headers, files, data, params, auth, cookies, hooks, json)\u001b[0m\n\u001b[1;32m    365\u001b[0m \u001b[39m\u001b[39m\u001b[39m\"\"\"Prepares the entire request with the given parameters.\"\"\"\u001b[39;00m\n\u001b[1;32m    367\u001b[0m \u001b[39mself\u001b[39m\u001b[39m.\u001b[39mprepare_method(method)\n\u001b[0;32m--> 368\u001b[0m \u001b[39mself\u001b[39;49m\u001b[39m.\u001b[39;49mprepare_url(url, params)\n\u001b[1;32m    369\u001b[0m \u001b[39mself\u001b[39m\u001b[39m.\u001b[39mprepare_headers(headers)\n\u001b[1;32m    370\u001b[0m \u001b[39mself\u001b[39m\u001b[39m.\u001b[39mprepare_cookies(cookies)\n",
      "File \u001b[0;32m~/micromamba/envs/space/lib/python3.11/site-packages/requests/models.py:439\u001b[0m, in \u001b[0;36mPreparedRequest.prepare_url\u001b[0;34m(self, url, params)\u001b[0m\n\u001b[1;32m    436\u001b[0m     \u001b[39mraise\u001b[39;00m InvalidURL(\u001b[39m*\u001b[39me\u001b[39m.\u001b[39margs)\n\u001b[1;32m    438\u001b[0m \u001b[39mif\u001b[39;00m \u001b[39mnot\u001b[39;00m scheme:\n\u001b[0;32m--> 439\u001b[0m     \u001b[39mraise\u001b[39;00m MissingSchema(\n\u001b[1;32m    440\u001b[0m         \u001b[39mf\u001b[39m\u001b[39m\"\u001b[39m\u001b[39mInvalid URL \u001b[39m\u001b[39m{\u001b[39;00murl\u001b[39m!r}\u001b[39;00m\u001b[39m: No scheme supplied. \u001b[39m\u001b[39m\"\u001b[39m\n\u001b[1;32m    441\u001b[0m         \u001b[39mf\u001b[39m\u001b[39m\"\u001b[39m\u001b[39mPerhaps you meant https://\u001b[39m\u001b[39m{\u001b[39;00murl\u001b[39m}\u001b[39;00m\u001b[39m?\u001b[39m\u001b[39m\"\u001b[39m\n\u001b[1;32m    442\u001b[0m     )\n\u001b[1;32m    444\u001b[0m \u001b[39mif\u001b[39;00m \u001b[39mnot\u001b[39;00m host:\n\u001b[1;32m    445\u001b[0m     \u001b[39mraise\u001b[39;00m InvalidURL(\u001b[39mf\u001b[39m\u001b[39m\"\u001b[39m\u001b[39mInvalid URL \u001b[39m\u001b[39m{\u001b[39;00murl\u001b[39m!r}\u001b[39;00m\u001b[39m: No host supplied\u001b[39m\u001b[39m\"\u001b[39m)\n",
      "\u001b[0;31mMissingSchema\u001b[0m: Invalid URL 'RS256': No scheme supplied. Perhaps you meant https://RS256?"
     ]
    }
   ],
   "source": [
    "vf.verify_signature(bearer_token)"
   ]
  },
  {
   "cell_type": "code",
   "execution_count": 43,
   "metadata": {},
   "outputs": [],
   "source": [
    "import jwt"
   ]
  },
  {
   "cell_type": "code",
   "execution_count": 44,
   "metadata": {},
   "outputs": [
    {
     "data": {
      "text/plain": [
       "{'alg': 'RS256', 'typ': 'JWT', 'kid': '5EahQrVoP7uBmAwXkT8VX'}"
      ]
     },
     "execution_count": 44,
     "metadata": {},
     "output_type": "execute_result"
    }
   ],
   "source": [
    "jwt.get_unverified_header(bearer_token)\n"
   ]
  },
  {
   "cell_type": "code",
   "execution_count": 22,
   "metadata": {},
   "outputs": [
    {
     "ename": "ValueError",
     "evalue": "('Could not deserialize key data. The data may be in an incorrect format, it may be encrypted with an unsupported algorithm, or it may be an unsupported key type (e.g. EC curves with explicit parameters).', [<OpenSSLError(code=75497580, lib=9, reason=108, reason_text=no start line)>])",
     "output_type": "error",
     "traceback": [
      "\u001b[0;31m---------------------------------------------------------------------------\u001b[0m",
      "\u001b[0;31mValueError\u001b[0m                                Traceback (most recent call last)",
      "File \u001b[0;32m~/micromamba/envs/space/lib/python3.11/site-packages/jwt/algorithms.py:350\u001b[0m, in \u001b[0;36mRSAAlgorithm.prepare_key\u001b[0;34m(self, key)\u001b[0m\n\u001b[1;32m    348\u001b[0m     \u001b[39melse\u001b[39;00m:\n\u001b[1;32m    349\u001b[0m         \u001b[39mreturn\u001b[39;00m cast(\n\u001b[0;32m--> 350\u001b[0m             RSAPrivateKey, load_pem_private_key(key_bytes, password\u001b[39m=\u001b[39;49m\u001b[39mNone\u001b[39;49;00m)\n\u001b[1;32m    351\u001b[0m         )\n\u001b[1;32m    352\u001b[0m \u001b[39mexcept\u001b[39;00m \u001b[39mValueError\u001b[39;00m:\n",
      "File \u001b[0;32m~/micromamba/envs/space/lib/python3.11/site-packages/cryptography/hazmat/primitives/serialization/base.py:25\u001b[0m, in \u001b[0;36mload_pem_private_key\u001b[0;34m(data, password, backend, unsafe_skip_rsa_key_validation)\u001b[0m\n\u001b[1;32m     23\u001b[0m \u001b[39mfrom\u001b[39;00m \u001b[39mcryptography\u001b[39;00m\u001b[39m.\u001b[39;00m\u001b[39mhazmat\u001b[39;00m\u001b[39m.\u001b[39;00m\u001b[39mbackends\u001b[39;00m\u001b[39m.\u001b[39;00m\u001b[39mopenssl\u001b[39;00m\u001b[39m.\u001b[39;00m\u001b[39mbackend\u001b[39;00m \u001b[39mimport\u001b[39;00m backend \u001b[39mas\u001b[39;00m ossl\n\u001b[0;32m---> 25\u001b[0m \u001b[39mreturn\u001b[39;00m ossl\u001b[39m.\u001b[39;49mload_pem_private_key(\n\u001b[1;32m     26\u001b[0m     data, password, unsafe_skip_rsa_key_validation\n\u001b[1;32m     27\u001b[0m )\n",
      "File \u001b[0;32m~/micromamba/envs/space/lib/python3.11/site-packages/cryptography/hazmat/backends/openssl/backend.py:747\u001b[0m, in \u001b[0;36mBackend.load_pem_private_key\u001b[0;34m(self, data, password, unsafe_skip_rsa_key_validation)\u001b[0m\n\u001b[1;32m    741\u001b[0m \u001b[39mdef\u001b[39;00m \u001b[39mload_pem_private_key\u001b[39m(\n\u001b[1;32m    742\u001b[0m     \u001b[39mself\u001b[39m,\n\u001b[1;32m    743\u001b[0m     data: \u001b[39mbytes\u001b[39m,\n\u001b[1;32m    744\u001b[0m     password: typing\u001b[39m.\u001b[39mOptional[\u001b[39mbytes\u001b[39m],\n\u001b[1;32m    745\u001b[0m     unsafe_skip_rsa_key_validation: \u001b[39mbool\u001b[39m,\n\u001b[1;32m    746\u001b[0m ) \u001b[39m-\u001b[39m\u001b[39m>\u001b[39m PrivateKeyTypes:\n\u001b[0;32m--> 747\u001b[0m     \u001b[39mreturn\u001b[39;00m \u001b[39mself\u001b[39;49m\u001b[39m.\u001b[39;49m_load_key(\n\u001b[1;32m    748\u001b[0m         \u001b[39mself\u001b[39;49m\u001b[39m.\u001b[39;49m_lib\u001b[39m.\u001b[39;49mPEM_read_bio_PrivateKey,\n\u001b[1;32m    749\u001b[0m         data,\n\u001b[1;32m    750\u001b[0m         password,\n\u001b[1;32m    751\u001b[0m         unsafe_skip_rsa_key_validation,\n\u001b[1;32m    752\u001b[0m     )\n",
      "File \u001b[0;32m~/micromamba/envs/space/lib/python3.11/site-packages/cryptography/hazmat/backends/openssl/backend.py:929\u001b[0m, in \u001b[0;36mBackend._load_key\u001b[0;34m(self, openssl_read_func, data, password, unsafe_skip_rsa_key_validation)\u001b[0m\n\u001b[1;32m    928\u001b[0m     \u001b[39melse\u001b[39;00m:\n\u001b[0;32m--> 929\u001b[0m         \u001b[39mself\u001b[39;49m\u001b[39m.\u001b[39;49m_handle_key_loading_error()\n\u001b[1;32m    931\u001b[0m evp_pkey \u001b[39m=\u001b[39m \u001b[39mself\u001b[39m\u001b[39m.\u001b[39m_ffi\u001b[39m.\u001b[39mgc(evp_pkey, \u001b[39mself\u001b[39m\u001b[39m.\u001b[39m_lib\u001b[39m.\u001b[39mEVP_PKEY_free)\n",
      "File \u001b[0;32m~/micromamba/envs/space/lib/python3.11/site-packages/cryptography/hazmat/backends/openssl/backend.py:984\u001b[0m, in \u001b[0;36mBackend._handle_key_loading_error\u001b[0;34m(self)\u001b[0m\n\u001b[1;32m    983\u001b[0m \u001b[39melse\u001b[39;00m:\n\u001b[0;32m--> 984\u001b[0m     \u001b[39mraise\u001b[39;00m \u001b[39mValueError\u001b[39;00m(\n\u001b[1;32m    985\u001b[0m         \u001b[39m\"\u001b[39m\u001b[39mCould not deserialize key data. The data may be in an \u001b[39m\u001b[39m\"\u001b[39m\n\u001b[1;32m    986\u001b[0m         \u001b[39m\"\u001b[39m\u001b[39mincorrect format, it may be encrypted with an unsupported \u001b[39m\u001b[39m\"\u001b[39m\n\u001b[1;32m    987\u001b[0m         \u001b[39m\"\u001b[39m\u001b[39malgorithm, or it may be an unsupported key type (e.g. EC \u001b[39m\u001b[39m\"\u001b[39m\n\u001b[1;32m    988\u001b[0m         \u001b[39m\"\u001b[39m\u001b[39mcurves with explicit parameters).\u001b[39m\u001b[39m\"\u001b[39m,\n\u001b[1;32m    989\u001b[0m         errors,\n\u001b[1;32m    990\u001b[0m     )\n",
      "\u001b[0;31mValueError\u001b[0m: ('Could not deserialize key data. The data may be in an incorrect format, it may be encrypted with an unsupported algorithm, or it may be an unsupported key type (e.g. EC curves with explicit parameters).', [<OpenSSLError(code=503841036, lib=60, reason=524556, reason_text=unsupported)>])",
      "\nDuring handling of the above exception, another exception occurred:\n",
      "\u001b[0;31mValueError\u001b[0m                                Traceback (most recent call last)",
      "\u001b[1;32m/Users/robinholzinger/robin/tumai/space/app/src/_dev/debug.ipynb Cell 22\u001b[0m line \u001b[0;36m6\n\u001b[1;32m      <a href='vscode-notebook-cell:/Users/robinholzinger/robin/tumai/space/app/src/_dev/debug.ipynb#X21sZmlsZQ%3D%3D?line=3'>4</a>\u001b[0m header_data \u001b[39m=\u001b[39m jwt\u001b[39m.\u001b[39mget_unverified_header(bearer_token)\n\u001b[1;32m      <a href='vscode-notebook-cell:/Users/robinholzinger/robin/tumai/space/app/src/_dev/debug.ipynb#X21sZmlsZQ%3D%3D?line=4'>5</a>\u001b[0m \u001b[39m# using that variable in the decode method\u001b[39;00m\n\u001b[0;32m----> <a href='vscode-notebook-cell:/Users/robinholzinger/robin/tumai/space/app/src/_dev/debug.ipynb#X21sZmlsZQ%3D%3D?line=5'>6</a>\u001b[0m jwt\u001b[39m.\u001b[39;49mdecode(\n\u001b[1;32m      <a href='vscode-notebook-cell:/Users/robinholzinger/robin/tumai/space/app/src/_dev/debug.ipynb#X21sZmlsZQ%3D%3D?line=6'>7</a>\u001b[0m     bearer_token,\n\u001b[1;32m      <a href='vscode-notebook-cell:/Users/robinholzinger/robin/tumai/space/app/src/_dev/debug.ipynb#X21sZmlsZQ%3D%3D?line=7'>8</a>\u001b[0m     key\u001b[39m=\u001b[39;49m\u001b[39m'\u001b[39;49m\u001b[39mkXrflrO6l_z84PfYEaGhToPx8DxCvKn4fgOad4xwJ_vLQkzu8PkvtPqnVyXuhnZwrEU11or7-WbcMFWFxGWXw9l1umHZ-4Ye8jrVGFB1F5Q7aHrfg26z_UTCRVhE_yI9P8IoJzPNGCyOr8Bps3TyW-LA_51jE8wdk0w8Tu5z7R1u31Do3Xy-a1yqsJAvWtyr06_AiNnLnZ_RHRrzqAZ2A56i7Hw8GB3ky0o-r9n4cRny3zgQzxoEN9wHYACHIDazAkt48ZWQQJhzM9vQ3qsE4k0tfaS_Cx-Y9hVpyZeG4aORRitkgedLI1ZwCDuflmFzBpqprDo9nM_vS54EnDlrZg\u001b[39;49m\u001b[39m'\u001b[39;49m,\n\u001b[1;32m      <a href='vscode-notebook-cell:/Users/robinholzinger/robin/tumai/space/app/src/_dev/debug.ipynb#X21sZmlsZQ%3D%3D?line=8'>9</a>\u001b[0m     algorithms\u001b[39m=\u001b[39;49m[header_data[\u001b[39m'\u001b[39;49m\u001b[39malg\u001b[39;49m\u001b[39m'\u001b[39;49m], ],\n\u001b[1;32m     <a href='vscode-notebook-cell:/Users/robinholzinger/robin/tumai/space/app/src/_dev/debug.ipynb#X21sZmlsZQ%3D%3D?line=9'>10</a>\u001b[0m     \n\u001b[1;32m     <a href='vscode-notebook-cell:/Users/robinholzinger/robin/tumai/space/app/src/_dev/debug.ipynb#X21sZmlsZQ%3D%3D?line=10'>11</a>\u001b[0m )\n",
      "File \u001b[0;32m~/micromamba/envs/space/lib/python3.11/site-packages/jwt/api_jwt.py:210\u001b[0m, in \u001b[0;36mPyJWT.decode\u001b[0;34m(self, jwt, key, algorithms, options, verify, detached_payload, audience, issuer, leeway, **kwargs)\u001b[0m\n\u001b[1;32m    203\u001b[0m \u001b[39mif\u001b[39;00m kwargs:\n\u001b[1;32m    204\u001b[0m     warnings\u001b[39m.\u001b[39mwarn(\n\u001b[1;32m    205\u001b[0m         \u001b[39m\"\u001b[39m\u001b[39mpassing additional kwargs to decode() is deprecated \u001b[39m\u001b[39m\"\u001b[39m\n\u001b[1;32m    206\u001b[0m         \u001b[39m\"\u001b[39m\u001b[39mand will be removed in pyjwt version 3. \u001b[39m\u001b[39m\"\u001b[39m\n\u001b[1;32m    207\u001b[0m         \u001b[39mf\u001b[39m\u001b[39m\"\u001b[39m\u001b[39mUnsupported kwargs: \u001b[39m\u001b[39m{\u001b[39;00m\u001b[39mtuple\u001b[39m(kwargs\u001b[39m.\u001b[39mkeys())\u001b[39m}\u001b[39;00m\u001b[39m\"\u001b[39m,\n\u001b[1;32m    208\u001b[0m         RemovedInPyjwt3Warning,\n\u001b[1;32m    209\u001b[0m     )\n\u001b[0;32m--> 210\u001b[0m decoded \u001b[39m=\u001b[39m \u001b[39mself\u001b[39;49m\u001b[39m.\u001b[39;49mdecode_complete(\n\u001b[1;32m    211\u001b[0m     jwt,\n\u001b[1;32m    212\u001b[0m     key,\n\u001b[1;32m    213\u001b[0m     algorithms,\n\u001b[1;32m    214\u001b[0m     options,\n\u001b[1;32m    215\u001b[0m     verify\u001b[39m=\u001b[39;49mverify,\n\u001b[1;32m    216\u001b[0m     detached_payload\u001b[39m=\u001b[39;49mdetached_payload,\n\u001b[1;32m    217\u001b[0m     audience\u001b[39m=\u001b[39;49maudience,\n\u001b[1;32m    218\u001b[0m     issuer\u001b[39m=\u001b[39;49missuer,\n\u001b[1;32m    219\u001b[0m     leeway\u001b[39m=\u001b[39;49mleeway,\n\u001b[1;32m    220\u001b[0m )\n\u001b[1;32m    221\u001b[0m \u001b[39mreturn\u001b[39;00m decoded[\u001b[39m\"\u001b[39m\u001b[39mpayload\u001b[39m\u001b[39m\"\u001b[39m]\n",
      "File \u001b[0;32m~/micromamba/envs/space/lib/python3.11/site-packages/jwt/api_jwt.py:151\u001b[0m, in \u001b[0;36mPyJWT.decode_complete\u001b[0;34m(self, jwt, key, algorithms, options, verify, detached_payload, audience, issuer, leeway, **kwargs)\u001b[0m\n\u001b[1;32m    146\u001b[0m \u001b[39mif\u001b[39;00m options[\u001b[39m\"\u001b[39m\u001b[39mverify_signature\u001b[39m\u001b[39m\"\u001b[39m] \u001b[39mand\u001b[39;00m \u001b[39mnot\u001b[39;00m algorithms:\n\u001b[1;32m    147\u001b[0m     \u001b[39mraise\u001b[39;00m DecodeError(\n\u001b[1;32m    148\u001b[0m         \u001b[39m'\u001b[39m\u001b[39mIt is required that you pass in a value for the \u001b[39m\u001b[39m\"\u001b[39m\u001b[39malgorithms\u001b[39m\u001b[39m\"\u001b[39m\u001b[39m argument when calling decode().\u001b[39m\u001b[39m'\u001b[39m\n\u001b[1;32m    149\u001b[0m     )\n\u001b[0;32m--> 151\u001b[0m decoded \u001b[39m=\u001b[39m api_jws\u001b[39m.\u001b[39;49mdecode_complete(\n\u001b[1;32m    152\u001b[0m     jwt,\n\u001b[1;32m    153\u001b[0m     key\u001b[39m=\u001b[39;49mkey,\n\u001b[1;32m    154\u001b[0m     algorithms\u001b[39m=\u001b[39;49malgorithms,\n\u001b[1;32m    155\u001b[0m     options\u001b[39m=\u001b[39;49moptions,\n\u001b[1;32m    156\u001b[0m     detached_payload\u001b[39m=\u001b[39;49mdetached_payload,\n\u001b[1;32m    157\u001b[0m )\n\u001b[1;32m    159\u001b[0m payload \u001b[39m=\u001b[39m \u001b[39mself\u001b[39m\u001b[39m.\u001b[39m_decode_payload(decoded)\n\u001b[1;32m    161\u001b[0m merged_options \u001b[39m=\u001b[39m {\u001b[39m*\u001b[39m\u001b[39m*\u001b[39m\u001b[39mself\u001b[39m\u001b[39m.\u001b[39moptions, \u001b[39m*\u001b[39m\u001b[39m*\u001b[39moptions}\n",
      "File \u001b[0;32m~/micromamba/envs/space/lib/python3.11/site-packages/jwt/api_jws.py:209\u001b[0m, in \u001b[0;36mPyJWS.decode_complete\u001b[0;34m(self, jwt, key, algorithms, options, detached_payload, **kwargs)\u001b[0m\n\u001b[1;32m    206\u001b[0m     signing_input \u001b[39m=\u001b[39m \u001b[39mb\u001b[39m\u001b[39m\"\u001b[39m\u001b[39m.\u001b[39m\u001b[39m\"\u001b[39m\u001b[39m.\u001b[39mjoin([signing_input\u001b[39m.\u001b[39mrsplit(\u001b[39mb\u001b[39m\u001b[39m\"\u001b[39m\u001b[39m.\u001b[39m\u001b[39m\"\u001b[39m, \u001b[39m1\u001b[39m)[\u001b[39m0\u001b[39m], payload])\n\u001b[1;32m    208\u001b[0m \u001b[39mif\u001b[39;00m verify_signature:\n\u001b[0;32m--> 209\u001b[0m     \u001b[39mself\u001b[39;49m\u001b[39m.\u001b[39;49m_verify_signature(signing_input, header, signature, key, algorithms)\n\u001b[1;32m    211\u001b[0m \u001b[39mreturn\u001b[39;00m {\n\u001b[1;32m    212\u001b[0m     \u001b[39m\"\u001b[39m\u001b[39mpayload\u001b[39m\u001b[39m\"\u001b[39m: payload,\n\u001b[1;32m    213\u001b[0m     \u001b[39m\"\u001b[39m\u001b[39mheader\u001b[39m\u001b[39m\"\u001b[39m: header,\n\u001b[1;32m    214\u001b[0m     \u001b[39m\"\u001b[39m\u001b[39msignature\u001b[39m\u001b[39m\"\u001b[39m: signature,\n\u001b[1;32m    215\u001b[0m }\n",
      "File \u001b[0;32m~/micromamba/envs/space/lib/python3.11/site-packages/jwt/api_jws.py:307\u001b[0m, in \u001b[0;36mPyJWS._verify_signature\u001b[0;34m(self, signing_input, header, signature, key, algorithms)\u001b[0m\n\u001b[1;32m    305\u001b[0m \u001b[39mexcept\u001b[39;00m \u001b[39mNotImplementedError\u001b[39;00m \u001b[39mas\u001b[39;00m e:\n\u001b[1;32m    306\u001b[0m     \u001b[39mraise\u001b[39;00m InvalidAlgorithmError(\u001b[39m\"\u001b[39m\u001b[39mAlgorithm not supported\u001b[39m\u001b[39m\"\u001b[39m) \u001b[39mfrom\u001b[39;00m \u001b[39me\u001b[39;00m\n\u001b[0;32m--> 307\u001b[0m prepared_key \u001b[39m=\u001b[39m alg_obj\u001b[39m.\u001b[39;49mprepare_key(key)\n\u001b[1;32m    309\u001b[0m \u001b[39mif\u001b[39;00m \u001b[39mnot\u001b[39;00m alg_obj\u001b[39m.\u001b[39mverify(signing_input, prepared_key, signature):\n\u001b[1;32m    310\u001b[0m     \u001b[39mraise\u001b[39;00m InvalidSignatureError(\u001b[39m\"\u001b[39m\u001b[39mSignature verification failed\u001b[39m\u001b[39m\"\u001b[39m)\n",
      "File \u001b[0;32m~/micromamba/envs/space/lib/python3.11/site-packages/jwt/algorithms.py:353\u001b[0m, in \u001b[0;36mRSAAlgorithm.prepare_key\u001b[0;34m(self, key)\u001b[0m\n\u001b[1;32m    349\u001b[0m         \u001b[39mreturn\u001b[39;00m cast(\n\u001b[1;32m    350\u001b[0m             RSAPrivateKey, load_pem_private_key(key_bytes, password\u001b[39m=\u001b[39m\u001b[39mNone\u001b[39;00m)\n\u001b[1;32m    351\u001b[0m         )\n\u001b[1;32m    352\u001b[0m \u001b[39mexcept\u001b[39;00m \u001b[39mValueError\u001b[39;00m:\n\u001b[0;32m--> 353\u001b[0m     \u001b[39mreturn\u001b[39;00m cast(RSAPublicKey, load_pem_public_key(key_bytes))\n",
      "File \u001b[0;32m~/micromamba/envs/space/lib/python3.11/site-packages/cryptography/hazmat/primitives/serialization/base.py:35\u001b[0m, in \u001b[0;36mload_pem_public_key\u001b[0;34m(data, backend)\u001b[0m\n\u001b[1;32m     30\u001b[0m \u001b[39mdef\u001b[39;00m \u001b[39mload_pem_public_key\u001b[39m(\n\u001b[1;32m     31\u001b[0m     data: \u001b[39mbytes\u001b[39m, backend: typing\u001b[39m.\u001b[39mAny \u001b[39m=\u001b[39m \u001b[39mNone\u001b[39;00m\n\u001b[1;32m     32\u001b[0m ) \u001b[39m-\u001b[39m\u001b[39m>\u001b[39m PublicKeyTypes:\n\u001b[1;32m     33\u001b[0m     \u001b[39mfrom\u001b[39;00m \u001b[39mcryptography\u001b[39;00m\u001b[39m.\u001b[39;00m\u001b[39mhazmat\u001b[39;00m\u001b[39m.\u001b[39;00m\u001b[39mbackends\u001b[39;00m\u001b[39m.\u001b[39;00m\u001b[39mopenssl\u001b[39;00m\u001b[39m.\u001b[39;00m\u001b[39mbackend\u001b[39;00m \u001b[39mimport\u001b[39;00m backend \u001b[39mas\u001b[39;00m ossl\n\u001b[0;32m---> 35\u001b[0m     \u001b[39mreturn\u001b[39;00m ossl\u001b[39m.\u001b[39;49mload_pem_public_key(data)\n",
      "File \u001b[0;32m~/micromamba/envs/space/lib/python3.11/site-packages/cryptography/hazmat/backends/openssl/backend.py:794\u001b[0m, in \u001b[0;36mBackend.load_pem_public_key\u001b[0;34m(self, data)\u001b[0m\n\u001b[1;32m    792\u001b[0m     \u001b[39mreturn\u001b[39;00m _RSAPublicKey(\u001b[39mself\u001b[39m, rsa_cdata, evp_pkey)\n\u001b[1;32m    793\u001b[0m \u001b[39melse\u001b[39;00m:\n\u001b[0;32m--> 794\u001b[0m     \u001b[39mself\u001b[39;49m\u001b[39m.\u001b[39;49m_handle_key_loading_error()\n",
      "File \u001b[0;32m~/micromamba/envs/space/lib/python3.11/site-packages/cryptography/hazmat/backends/openssl/backend.py:984\u001b[0m, in \u001b[0;36mBackend._handle_key_loading_error\u001b[0;34m(self)\u001b[0m\n\u001b[1;32m    981\u001b[0m     \u001b[39mraise\u001b[39;00m \u001b[39mValueError\u001b[39;00m(\u001b[39m\"\u001b[39m\u001b[39mUnsupported public key algorithm.\u001b[39m\u001b[39m\"\u001b[39m)\n\u001b[1;32m    983\u001b[0m \u001b[39melse\u001b[39;00m:\n\u001b[0;32m--> 984\u001b[0m     \u001b[39mraise\u001b[39;00m \u001b[39mValueError\u001b[39;00m(\n\u001b[1;32m    985\u001b[0m         \u001b[39m\"\u001b[39m\u001b[39mCould not deserialize key data. The data may be in an \u001b[39m\u001b[39m\"\u001b[39m\n\u001b[1;32m    986\u001b[0m         \u001b[39m\"\u001b[39m\u001b[39mincorrect format, it may be encrypted with an unsupported \u001b[39m\u001b[39m\"\u001b[39m\n\u001b[1;32m    987\u001b[0m         \u001b[39m\"\u001b[39m\u001b[39malgorithm, or it may be an unsupported key type (e.g. EC \u001b[39m\u001b[39m\"\u001b[39m\n\u001b[1;32m    988\u001b[0m         \u001b[39m\"\u001b[39m\u001b[39mcurves with explicit parameters).\u001b[39m\u001b[39m\"\u001b[39m,\n\u001b[1;32m    989\u001b[0m         errors,\n\u001b[1;32m    990\u001b[0m     )\n",
      "\u001b[0;31mValueError\u001b[0m: ('Could not deserialize key data. The data may be in an incorrect format, it may be encrypted with an unsupported algorithm, or it may be an unsupported key type (e.g. EC curves with explicit parameters).', [<OpenSSLError(code=75497580, lib=9, reason=108, reason_text=no start line)>])"
     ]
    }
   ],
   "source": [
    "import jwt\n",
    "\n",
    "# saving the header claims into a variable\n",
    "header_data = jwt.get_unverified_header(bearer_token)\n",
    "# using that variable in the decode method\n",
    "jwt.decode(\n",
    "    bearer_token,\n",
    "    key='kXrflrO6l_z84PfYEaGhToPx8DxCvKn4fgOad4xwJ_vLQkzu8PkvtPqnVyXuhnZwrEU11or7-WbcMFWFxGWXw9l1umHZ-4Ye8jrVGFB1F5Q7aHrfg26z_UTCRVhE_yI9P8IoJzPNGCyOr8Bps3TyW-LA_51jE8wdk0w8Tu5z7R1u31Do3Xy-a1yqsJAvWtyr06_AiNnLnZ_RHRrzqAZ2A56i7Hw8GB3ky0o-r9n4cRny3zgQzxoEN9wHYACHIDazAkt48ZWQQJhzM9vQ3qsE4k0tfaS_Cx-Y9hVpyZeG4aORRitkgedLI1ZwCDuflmFzBpqprDo9nM_vS54EnDlrZg',\n",
    "    algorithms=[header_data['alg'], ],\n",
    "    \n",
    ")"
   ]
  },
  {
   "cell_type": "code",
   "execution_count": null,
   "metadata": {},
   "outputs": [],
   "source": []
  },
  {
   "cell_type": "code",
   "execution_count": null,
   "metadata": {},
   "outputs": [],
   "source": []
  }
 ],
 "metadata": {
  "kernelspec": {
   "display_name": "Python 3",
   "language": "python",
   "name": "python3"
  },
  "language_info": {
   "codemirror_mode": {
    "name": "ipython",
    "version": 3
   },
   "file_extension": ".py",
   "mimetype": "text/x-python",
   "name": "python",
   "nbconvert_exporter": "python",
   "pygments_lexer": "ipython3",
   "version": "3.11.5"
  },
  "orig_nbformat": 4
 },
 "nbformat": 4,
 "nbformat_minor": 2
}
